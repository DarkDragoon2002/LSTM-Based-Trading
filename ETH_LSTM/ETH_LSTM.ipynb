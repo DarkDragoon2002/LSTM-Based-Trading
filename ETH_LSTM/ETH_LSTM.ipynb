{
 "cells": [
  {
   "cell_type": "code",
   "execution_count": 1,
   "metadata": {},
   "outputs": [],
   "source": [
    "import pandas as pd\n",
    "import tensorflow as tf\n",
    "import yfinance as yf\n",
    "import numpy as np\n",
    "import keras\n",
    "from sklearn.model_selection import train_test_split\n",
    "from sklearn.metrics import mean_squared_error\n",
    "from sklearn.preprocessing import MinMaxScaler\n",
    "from keras.models import Model\n",
    "from keras.models import Sequential\n",
    "from keras.layers import Dense, Dropout, LSTM, Input,GlobalAveragePooling1D, Bidirectional\n",
    "from keras import optimizers\n",
    "import matplotlib.pyplot as plt\n",
    "import keras_tuner as kt\n",
    "from datetime import datetime, timedelta\n",
    "import math"
   ]
  },
  {
   "cell_type": "code",
   "execution_count": 2,
   "metadata": {},
   "outputs": [
    {
     "name": "stdout",
     "output_type": "stream",
     "text": [
      "[name: \"/device:CPU:0\"\n",
      "device_type: \"CPU\"\n",
      "memory_limit: 268435456\n",
      "locality {\n",
      "}\n",
      "incarnation: 14369731644598487697\n",
      "xla_global_id: -1\n",
      ", name: \"/device:GPU:0\"\n",
      "device_type: \"GPU\"\n",
      "memory_limit: 5729419264\n",
      "locality {\n",
      "  bus_id: 1\n",
      "  links {\n",
      "  }\n",
      "}\n",
      "incarnation: 14567462073628755670\n",
      "physical_device_desc: \"device: 0, name: NVIDIA GeForce RTX 4060 Laptop GPU, pci bus id: 0000:01:00.0, compute capability: 8.9\"\n",
      "xla_global_id: 416903419\n",
      "]\n",
      "INFO:tensorflow:Mixed precision compatibility check (mixed_float16): OK\n",
      "Your GPU will likely run quickly with dtype policy mixed_float16 as it has compute capability of at least 7.0. Your GPU: NVIDIA GeForce RTX 4060 Laptop GPU, compute capability 8.9\n"
     ]
    }
   ],
   "source": [
    "from tensorflow.python.client import device_lib\n",
    "print(device_lib.list_local_devices())\n",
    "policy = keras.mixed_precision.Policy('mixed_float16')\n",
    "keras.mixed_precision.set_global_policy(policy)"
   ]
  },
  {
   "cell_type": "code",
   "execution_count": 3,
   "metadata": {},
   "outputs": [],
   "source": [
    "timestep = 100\n",
    "testfrac = 0.25\n",
    "valfrac = 0.2"
   ]
  },
  {
   "cell_type": "code",
   "execution_count": 4,
   "metadata": {},
   "outputs": [
    {
     "data": {
      "text/plain": [
       "'2024-01-29'"
      ]
     },
     "metadata": {},
     "output_type": "display_data"
    },
    {
     "name": "stderr",
     "output_type": "stream",
     "text": [
      "[*********************100%%**********************]  1 of 1 completed\n"
     ]
    },
    {
     "data": {
      "text/plain": [
       "(2271, 1)"
      ]
     },
     "metadata": {},
     "output_type": "display_data"
    }
   ],
   "source": [
    "start_date = '2010-01-01'\n",
    "today = datetime.now()\n",
    "end_date = datetime.strftime(today, '%Y-%m-%d')\n",
    "display(end_date)\n",
    "data = yf.download(\"ETH-USD\", start=start_date, end=end_date) #Displays till yesterday as today is not complete\n",
    "data = data.reset_index()\n",
    "dataclose = np.array([data['Close']]).transpose()\n",
    "display(dataclose.shape)"
   ]
  },
  {
   "cell_type": "code",
   "execution_count": 5,
   "metadata": {},
   "outputs": [
    {
     "data": {
      "text/html": [
       "<div>\n",
       "<style scoped>\n",
       "    .dataframe tbody tr th:only-of-type {\n",
       "        vertical-align: middle;\n",
       "    }\n",
       "\n",
       "    .dataframe tbody tr th {\n",
       "        vertical-align: top;\n",
       "    }\n",
       "\n",
       "    .dataframe thead th {\n",
       "        text-align: right;\n",
       "    }\n",
       "</style>\n",
       "<table border=\"1\" class=\"dataframe\">\n",
       "  <thead>\n",
       "    <tr style=\"text-align: right;\">\n",
       "      <th></th>\n",
       "      <th>Open</th>\n",
       "      <th>High</th>\n",
       "      <th>Low</th>\n",
       "      <th>Close</th>\n",
       "      <th>Volume</th>\n",
       "    </tr>\n",
       "  </thead>\n",
       "  <tbody>\n",
       "    <tr>\n",
       "      <th>0</th>\n",
       "      <td>308.644989</td>\n",
       "      <td>329.451996</td>\n",
       "      <td>307.056000</td>\n",
       "      <td>320.884003</td>\n",
       "      <td>893249984</td>\n",
       "    </tr>\n",
       "    <tr>\n",
       "      <th>1</th>\n",
       "      <td>320.670990</td>\n",
       "      <td>324.717987</td>\n",
       "      <td>294.541992</td>\n",
       "      <td>299.252991</td>\n",
       "      <td>885985984</td>\n",
       "    </tr>\n",
       "    <tr>\n",
       "      <th>2</th>\n",
       "      <td>298.585999</td>\n",
       "      <td>319.453003</td>\n",
       "      <td>298.191986</td>\n",
       "      <td>314.681000</td>\n",
       "      <td>842300992</td>\n",
       "    </tr>\n",
       "    <tr>\n",
       "      <th>3</th>\n",
       "      <td>314.690002</td>\n",
       "      <td>319.153015</td>\n",
       "      <td>298.513000</td>\n",
       "      <td>307.907990</td>\n",
       "      <td>1613479936</td>\n",
       "    </tr>\n",
       "    <tr>\n",
       "      <th>4</th>\n",
       "      <td>307.024994</td>\n",
       "      <td>328.415009</td>\n",
       "      <td>307.024994</td>\n",
       "      <td>316.716003</td>\n",
       "      <td>1041889984</td>\n",
       "    </tr>\n",
       "    <tr>\n",
       "      <th>...</th>\n",
       "      <td>...</td>\n",
       "      <td>...</td>\n",
       "      <td>...</td>\n",
       "      <td>...</td>\n",
       "      <td>...</td>\n",
       "    </tr>\n",
       "    <tr>\n",
       "      <th>2266</th>\n",
       "      <td>2310.951660</td>\n",
       "      <td>2348.031250</td>\n",
       "      <td>2167.282471</td>\n",
       "      <td>2240.686035</td>\n",
       "      <td>16182147521</td>\n",
       "    </tr>\n",
       "    <tr>\n",
       "      <th>2267</th>\n",
       "      <td>2241.749756</td>\n",
       "      <td>2261.384521</td>\n",
       "      <td>2197.656738</td>\n",
       "      <td>2233.561768</td>\n",
       "      <td>10134722960</td>\n",
       "    </tr>\n",
       "    <tr>\n",
       "      <th>2268</th>\n",
       "      <td>2233.969971</td>\n",
       "      <td>2240.380859</td>\n",
       "      <td>2173.686523</td>\n",
       "      <td>2217.710205</td>\n",
       "      <td>9302247037</td>\n",
       "    </tr>\n",
       "    <tr>\n",
       "      <th>2269</th>\n",
       "      <td>2217.441895</td>\n",
       "      <td>2280.383789</td>\n",
       "      <td>2196.140137</td>\n",
       "      <td>2267.199707</td>\n",
       "      <td>9975117607</td>\n",
       "    </tr>\n",
       "    <tr>\n",
       "      <th>2270</th>\n",
       "      <td>2267.319336</td>\n",
       "      <td>2282.544434</td>\n",
       "      <td>2252.385254</td>\n",
       "      <td>2267.885986</td>\n",
       "      <td>5144367230</td>\n",
       "    </tr>\n",
       "  </tbody>\n",
       "</table>\n",
       "<p>2271 rows × 5 columns</p>\n",
       "</div>"
      ],
      "text/plain": [
       "             Open         High          Low        Close       Volume\n",
       "0      308.644989   329.451996   307.056000   320.884003    893249984\n",
       "1      320.670990   324.717987   294.541992   299.252991    885985984\n",
       "2      298.585999   319.453003   298.191986   314.681000    842300992\n",
       "3      314.690002   319.153015   298.513000   307.907990   1613479936\n",
       "4      307.024994   328.415009   307.024994   316.716003   1041889984\n",
       "...           ...          ...          ...          ...          ...\n",
       "2266  2310.951660  2348.031250  2167.282471  2240.686035  16182147521\n",
       "2267  2241.749756  2261.384521  2197.656738  2233.561768  10134722960\n",
       "2268  2233.969971  2240.380859  2173.686523  2217.710205   9302247037\n",
       "2269  2217.441895  2280.383789  2196.140137  2267.199707   9975117607\n",
       "2270  2267.319336  2282.544434  2252.385254  2267.885986   5144367230\n",
       "\n",
       "[2271 rows x 5 columns]"
      ]
     },
     "metadata": {},
     "output_type": "display_data"
    },
    {
     "data": {
      "image/png": "[encoded data removed]",
      "text/plain": [
       "<Figure size 640x480 with 1 Axes>"
      ]
     },
     "metadata": {},
     "output_type": "display_data"
    }
   ],
   "source": [
    "data = data[['Open', 'High', 'Low', 'Close', 'Volume']]\n",
    "display(data)\n",
    "plt.plot(dataclose)\n",
    "plt.show()"
   ]
  },
  {
   "cell_type": "code",
   "execution_count": 6,
   "metadata": {},
   "outputs": [
    {
     "data": {
      "text/plain": [
       "(2271, 5)"
      ]
     },
     "metadata": {},
     "output_type": "display_data"
    },
    {
     "data": {
      "text/plain": [
       "(2271, 1)"
      ]
     },
     "metadata": {},
     "output_type": "display_data"
    }
   ],
   "source": [
    "Xscaler = MinMaxScaler()\n",
    "Xdata = Xscaler.fit_transform(np.array(data))\n",
    "Yscaler = MinMaxScaler()\n",
    "Ydata = Yscaler.fit_transform(dataclose)\n",
    "display(Xdata.shape)\n",
    "display(Ydata.shape)"
   ]
  },
  {
   "cell_type": "code",
   "execution_count": 7,
   "metadata": {},
   "outputs": [],
   "source": [
    "X_temp, X_test = train_test_split(Xdata, test_size=testfrac, shuffle=False)\n",
    "Y_temp, Y_test = train_test_split(Ydata, test_size=testfrac, shuffle=False)\n",
    "X_train, X_val = train_test_split(X_temp, test_size=valfrac, shuffle=False)\n",
    "Y_train, Y_val = train_test_split(Y_temp, test_size=valfrac, shuffle=False)"
   ]
  },
  {
   "cell_type": "code",
   "execution_count": 8,
   "metadata": {},
   "outputs": [],
   "source": [
    "def build_timeseries(Xdata, Ydata, time_step):\n",
    "    dim_0 = Xdata.shape[0] - time_step\n",
    "    dim_1 = Xdata.shape[1]\n",
    "\n",
    "    x = np.zeros((dim_0, time_step, dim_1))\n",
    "    y = np.zeros((Ydata.shape[0] - time_step,))\n",
    "\n",
    "    for i in range(dim_0):\n",
    "        x[i] = Xdata[i:time_step+i]\n",
    "        y[i] = Ydata[time_step+i]\n",
    "    return x, y"
   ]
  },
  {
   "cell_type": "code",
   "execution_count": 9,
   "metadata": {},
   "outputs": [
    {
     "name": "stdout",
     "output_type": "stream",
     "text": [
      "X Train Shape:  (1262, 100, 5)    Y Train Shape:  (1262,)\n",
      "X Val Shape:  (241, 100, 5)    Y Val Shape:  (241,)\n",
      "X Test Shape:  (468, 100, 5)    Y Test Shape:  (468,)\n"
     ]
    },
    {
     "name": "stderr",
     "output_type": "stream",
     "text": [
      "C:\\Users\\user\\AppData\\Local\\Temp\\ipykernel_55024\\2375792492.py:10: DeprecationWarning: Conversion of an array with ndim > 0 to a scalar is deprecated, and will error in future. Ensure you extract a single element from your array before performing this operation. (Deprecated NumPy 1.25.)\n",
      "  y[i] = Ydata[time_step+i]\n"
     ]
    }
   ],
   "source": [
    "X_train, Y_train = build_timeseries(X_train, Y_train, timestep)\n",
    "X_test, Y_test = build_timeseries(X_test, Y_test, timestep)\n",
    "X_val, Y_val = build_timeseries(X_val, Y_val, timestep)\n",
    "print(\"X Train Shape: \", X_train.shape, \"   Y Train Shape: \", Y_train.shape)\n",
    "print(\"X Val Shape: \", X_val.shape, \"   Y Val Shape: \", Y_val.shape)\n",
    "print(\"X Test Shape: \", X_test.shape, \"   Y Test Shape: \", Y_test.shape)"
   ]
  },
  {
   "cell_type": "code",
   "execution_count": 10,
   "metadata": {},
   "outputs": [],
   "source": [
    "def model_builder(hp):\n",
    "    lstm_model = Sequential()\n",
    "    \n",
    "    lstm_units_0 = hp.Int('units_lstm_0', min_value=32, max_value=512, step=32)\n",
    "    lstm_model.add(Input(shape=(X_train.shape[1], X_train.shape[2])))\n",
    "    lstm_model.add(Bidirectional(LSTM(units=lstm_units_0, return_sequences=True)))\n",
    "    lstm_model.add(Dropout(0.05))\n",
    "    lstm_model.add(Bidirectional(LSTM(units=int(lstm_units_0/4), return_sequences=True)))\n",
    "    lstm_model.add(Dropout(0.05))\n",
    "    lstm_model.add(Bidirectional(LSTM(units=int(lstm_units_0/4), return_sequences=True)))\n",
    "    lstm_model.add(Dropout(0.05))\n",
    "    lstm_model.add(Bidirectional(LSTM(int(lstm_units_0/8), return_sequences=True)))\n",
    "    lstm_model.add(GlobalAveragePooling1D())\n",
    "    lstm_model.add(Dense(units=int(lstm_units_0/4),activation='relu'))\n",
    "    lstm_model.add(Dense(units=int(lstm_units_0/4),activation='relu'))\n",
    "    lstm_model.add(Dense(units=int(lstm_units_0/4),activation='relu'))\n",
    "    lstm_model.add(Dense(units=1, activation='linear'))\n",
    "    lstm_model.summary()\n",
    "    \n",
    "    hyperparameters_learning_rate = hp.Choice('learning_rate', values=[0.01, 0.05, 0.1])\n",
    "    \n",
    "    lstm_model.compile(loss='huber_loss', optimizer=keras.optimizers.Adam(learning_rate=hyperparameters_learning_rate))\n",
    "    \n",
    "    return lstm_model"
   ]
  },
  {
   "cell_type": "code",
   "execution_count": 11,
   "metadata": {},
   "outputs": [
    {
     "name": "stdout",
     "output_type": "stream",
     "text": [
      "Reloading Tuner from .\\untitled_project\\tuner0.json\n",
      "Model: \"sequential\"\n",
      "_________________________________________________________________\n",
      " Layer (type)                Output Shape              Param #   \n",
      "=================================================================\n",
      " bidirectional (Bidirectiona  (None, 100, 128)         35840     \n",
      " l)                                                              \n",
      "                                                                 \n",
      " dropout (Dropout)           (None, 100, 128)          0         \n",
      "                                                                 \n",
      " bidirectional_1 (Bidirectio  (None, 100, 32)          18560     \n",
      " nal)                                                            \n",
      "                                                                 \n",
      " dropout_1 (Dropout)         (None, 100, 32)           0         \n",
      "                                                                 \n",
      " bidirectional_2 (Bidirectio  (None, 100, 32)          6272      \n",
      " nal)                                                            \n",
      "                                                                 \n",
      " dropout_2 (Dropout)         (None, 100, 32)           0         \n",
      "                                                                 \n",
      " bidirectional_3 (Bidirectio  (None, 100, 16)          2624      \n",
      " nal)                                                            \n",
      "                                                                 \n",
      " global_average_pooling1d (G  (None, 16)               0         \n",
      " lobalAveragePooling1D)                                          \n",
      "                                                                 \n",
      " dense (Dense)               (None, 16)                272       \n",
      "                                                                 \n",
      " dense_1 (Dense)             (None, 16)                272       \n",
      "                                                                 \n",
      " dense_2 (Dense)             (None, 16)                272       \n",
      "                                                                 \n",
      " dense_3 (Dense)             (None, 1)                 17        \n",
      "                                                                 \n",
      "=================================================================\n",
      "Total params: 64,129\n",
      "Trainable params: 64,129\n",
      "Non-trainable params: 0\n",
      "_________________________________________________________________\n",
      "Model: \"sequential\"\n",
      "_________________________________________________________________\n",
      " Layer (type)                Output Shape              Param #   \n",
      "=================================================================\n",
      " bidirectional (Bidirectiona  (None, 100, 128)         35840     \n",
      " l)                                                              \n",
      "                                                                 \n",
      " dropout (Dropout)           (None, 100, 128)          0         \n",
      "                                                                 \n",
      " bidirectional_1 (Bidirectio  (None, 100, 32)          18560     \n",
      " nal)                                                            \n",
      "                                                                 \n",
      " dropout_1 (Dropout)         (None, 100, 32)           0         \n",
      "                                                                 \n",
      " bidirectional_2 (Bidirectio  (None, 100, 32)          6272      \n",
      " nal)                                                            \n",
      "                                                                 \n",
      " dropout_2 (Dropout)         (None, 100, 32)           0         \n",
      "                                                                 \n",
      " bidirectional_3 (Bidirectio  (None, 100, 16)          2624      \n",
      " nal)                                                            \n",
      "                                                                 \n",
      " global_average_pooling1d (G  (None, 16)               0         \n",
      " lobalAveragePooling1D)                                          \n",
      "                                                                 \n",
      " dense (Dense)               (None, 16)                272       \n",
      "                                                                 \n",
      " dense_1 (Dense)             (None, 16)                272       \n",
      "                                                                 \n",
      " dense_2 (Dense)             (None, 16)                272       \n",
      "                                                                 \n",
      " dense_3 (Dense)             (None, 1)                 17        \n",
      "                                                                 \n",
      "=================================================================\n",
      "Total params: 64,129\n",
      "Trainable params: 64,129\n",
      "Non-trainable params: 0\n",
      "_________________________________________________________________\n",
      "None\n"
     ]
    }
   ],
   "source": [
    "tuner = kt.BayesianOptimization(\n",
    "    model_builder,\n",
    "    objective='val_loss',\n",
    "    max_trials=50)\n",
    "tuner.search(X_train, Y_train, epochs=100, validation_data=(X_val,Y_val))\n",
    "lstm_model  = tuner.get_best_models()[0]  \n",
    "print(lstm_model.summary())\n",
    "callback = tf.keras.callbacks.EarlyStopping(monitor='val_loss', patience=3)"
   ]
  },
  {
   "cell_type": "code",
   "execution_count": 12,
   "metadata": {},
   "outputs": [
    {
     "name": "stdout",
     "output_type": "stream",
     "text": [
      "Epoch 1/100\n",
      "79/79 [==============================] - 16s 80ms/step - loss: 4.8062e-04 - val_loss: 0.0019\n",
      "Epoch 2/100\n",
      "79/79 [==============================] - 4s 57ms/step - loss: 6.4144e-04 - val_loss: 0.0049\n",
      "Epoch 3/100\n",
      "79/79 [==============================] - 5s 58ms/step - loss: 4.8540e-04 - val_loss: 0.0024\n",
      "Epoch 4/100\n",
      "79/79 [==============================] - 5s 58ms/step - loss: 2.9591e-04 - val_loss: 0.0014\n",
      "Epoch 5/100\n",
      "79/79 [==============================] - 4s 57ms/step - loss: 2.6802e-04 - val_loss: 0.0023\n",
      "Epoch 6/100\n",
      "79/79 [==============================] - 4s 55ms/step - loss: 3.3440e-04 - val_loss: 0.0029\n",
      "Epoch 7/100\n",
      "79/79 [==============================] - 4s 56ms/step - loss: 3.2349e-04 - val_loss: 0.0015\n",
      "Epoch 8/100\n",
      "79/79 [==============================] - 4s 56ms/step - loss: 2.1472e-04 - val_loss: 0.0022\n",
      "Epoch 9/100\n",
      "79/79 [==============================] - 4s 57ms/step - loss: 2.4831e-04 - val_loss: 0.0017\n",
      "Epoch 10/100\n",
      "79/79 [==============================] - 5s 63ms/step - loss: 2.0787e-04 - val_loss: 0.0018\n",
      "Epoch 11/100\n",
      "79/79 [==============================] - 5s 62ms/step - loss: 1.9870e-04 - val_loss: 0.0023\n",
      "Epoch 12/100\n",
      "79/79 [==============================] - 5s 61ms/step - loss: 1.8870e-04 - val_loss: 0.0012\n",
      "Epoch 13/100\n",
      "79/79 [==============================] - 5s 63ms/step - loss: 2.1092e-04 - val_loss: 0.0031\n",
      "Epoch 14/100\n",
      "79/79 [==============================] - 5s 61ms/step - loss: 1.9256e-04 - val_loss: 0.0027\n",
      "Epoch 15/100\n",
      "79/79 [==============================] - 5s 61ms/step - loss: 2.5178e-04 - val_loss: 0.0042\n",
      "Epoch 16/100\n",
      "79/79 [==============================] - 5s 63ms/step - loss: 1.8699e-04 - val_loss: 0.0028\n",
      "Epoch 17/100\n",
      "79/79 [==============================] - 5s 60ms/step - loss: 2.2102e-04 - val_loss: 0.0033\n",
      "Epoch 18/100\n",
      "79/79 [==============================] - 5s 61ms/step - loss: 1.6455e-04 - val_loss: 0.0029\n",
      "Epoch 19/100\n",
      "79/79 [==============================] - 5s 60ms/step - loss: 2.2065e-04 - val_loss: 0.0013\n",
      "Epoch 20/100\n",
      "79/79 [==============================] - 5s 60ms/step - loss: 1.8809e-04 - val_loss: 0.0032\n",
      "Epoch 21/100\n",
      "79/79 [==============================] - 6s 79ms/step - loss: 2.1666e-04 - val_loss: 0.0042\n",
      "Epoch 22/100\n",
      "79/79 [==============================] - 5s 69ms/step - loss: 2.5877e-04 - val_loss: 0.0042\n",
      "Epoch 23/100\n",
      "79/79 [==============================] - 6s 70ms/step - loss: 2.3266e-04 - val_loss: 0.0046\n",
      "Epoch 24/100\n",
      "79/79 [==============================] - 5s 68ms/step - loss: 2.3719e-04 - val_loss: 0.0030\n",
      "Epoch 25/100\n",
      "79/79 [==============================] - 5s 67ms/step - loss: 1.9623e-04 - val_loss: 0.0013\n",
      "Epoch 26/100\n",
      "79/79 [==============================] - 5s 67ms/step - loss: 1.6489e-04 - val_loss: 0.0021\n",
      "Epoch 27/100\n",
      "79/79 [==============================] - 5s 69ms/step - loss: 1.6897e-04 - val_loss: 0.0026\n",
      "Epoch 28/100\n",
      "79/79 [==============================] - 6s 76ms/step - loss: 1.7346e-04 - val_loss: 0.0033\n",
      "Epoch 29/100\n",
      "79/79 [==============================] - 5s 67ms/step - loss: 2.7937e-04 - val_loss: 0.0043\n",
      "Epoch 30/100\n",
      "79/79 [==============================] - 5s 65ms/step - loss: 2.1181e-04 - val_loss: 0.0030\n",
      "Epoch 31/100\n",
      "79/79 [==============================] - 5s 66ms/step - loss: 1.4947e-04 - val_loss: 0.0044\n",
      "Epoch 32/100\n",
      "79/79 [==============================] - 6s 70ms/step - loss: 1.4419e-04 - val_loss: 0.0040\n",
      "Epoch 33/100\n",
      "79/79 [==============================] - 5s 67ms/step - loss: 1.8750e-04 - val_loss: 0.0033\n",
      "Epoch 34/100\n",
      "79/79 [==============================] - 5s 68ms/step - loss: 2.1172e-04 - val_loss: 0.0038\n",
      "Epoch 35/100\n",
      "79/79 [==============================] - 5s 69ms/step - loss: 2.0269e-04 - val_loss: 0.0019\n",
      "Epoch 36/100\n",
      "79/79 [==============================] - 5s 62ms/step - loss: 2.2671e-04 - val_loss: 0.0033\n",
      "Epoch 37/100\n",
      "79/79 [==============================] - 5s 66ms/step - loss: 1.9405e-04 - val_loss: 0.0026\n",
      "Epoch 38/100\n",
      "79/79 [==============================] - 5s 65ms/step - loss: 2.0037e-04 - val_loss: 0.0042\n",
      "Epoch 39/100\n",
      "79/79 [==============================] - 5s 67ms/step - loss: 1.4192e-04 - val_loss: 0.0037\n",
      "Epoch 40/100\n",
      "79/79 [==============================] - 5s 66ms/step - loss: 1.8087e-04 - val_loss: 0.0035\n",
      "Epoch 41/100\n",
      "79/79 [==============================] - 5s 67ms/step - loss: 1.7222e-04 - val_loss: 0.0035\n",
      "Epoch 42/100\n",
      "79/79 [==============================] - 5s 67ms/step - loss: 2.6120e-04 - val_loss: 0.0043\n",
      "Epoch 43/100\n",
      "79/79 [==============================] - 5s 66ms/step - loss: 1.8043e-04 - val_loss: 0.0037\n",
      "Epoch 44/100\n",
      "79/79 [==============================] - 5s 65ms/step - loss: 1.7030e-04 - val_loss: 0.0035\n",
      "Epoch 45/100\n",
      "79/79 [==============================] - 5s 67ms/step - loss: 1.5622e-04 - val_loss: 0.0035\n",
      "Epoch 46/100\n",
      "79/79 [==============================] - 5s 67ms/step - loss: 1.7751e-04 - val_loss: 0.0033\n",
      "Epoch 47/100\n",
      "79/79 [==============================] - 5s 66ms/step - loss: 1.4676e-04 - val_loss: 0.0028\n",
      "Epoch 48/100\n",
      "79/79 [==============================] - 5s 66ms/step - loss: 1.6302e-04 - val_loss: 0.0035\n",
      "Epoch 49/100\n",
      "79/79 [==============================] - 5s 65ms/step - loss: 1.9617e-04 - val_loss: 0.0044\n",
      "Epoch 50/100\n",
      "79/79 [==============================] - 5s 68ms/step - loss: 1.4571e-04 - val_loss: 0.0047\n",
      "Epoch 51/100\n",
      "79/79 [==============================] - 5s 65ms/step - loss: 1.4670e-04 - val_loss: 0.0028\n",
      "Epoch 52/100\n",
      "79/79 [==============================] - 5s 65ms/step - loss: 1.5380e-04 - val_loss: 0.0043\n",
      "Epoch 53/100\n",
      "79/79 [==============================] - 5s 64ms/step - loss: 1.7287e-04 - val_loss: 0.0049\n",
      "Epoch 54/100\n",
      "79/79 [==============================] - 5s 65ms/step - loss: 2.1541e-04 - val_loss: 0.0028\n",
      "Epoch 55/100\n",
      "79/79 [==============================] - 5s 66ms/step - loss: 1.9617e-04 - val_loss: 0.0055\n",
      "Epoch 56/100\n",
      "79/79 [==============================] - 5s 67ms/step - loss: 1.9430e-04 - val_loss: 0.0040\n",
      "Epoch 57/100\n",
      "79/79 [==============================] - 5s 66ms/step - loss: 1.1967e-04 - val_loss: 0.0044\n",
      "Epoch 58/100\n",
      "79/79 [==============================] - 5s 65ms/step - loss: 1.3885e-04 - val_loss: 0.0020\n",
      "Epoch 59/100\n",
      "79/79 [==============================] - 5s 65ms/step - loss: 1.2658e-04 - val_loss: 0.0027\n",
      "Epoch 60/100\n",
      "79/79 [==============================] - 5s 66ms/step - loss: 1.6390e-04 - val_loss: 0.0108\n",
      "Epoch 61/100\n",
      "79/79 [==============================] - 5s 65ms/step - loss: 1.7133e-04 - val_loss: 0.0041\n",
      "Epoch 62/100\n",
      "79/79 [==============================] - 5s 67ms/step - loss: 1.6555e-04 - val_loss: 0.0040\n",
      "Epoch 63/100\n",
      "79/79 [==============================] - 5s 67ms/step - loss: 1.1060e-04 - val_loss: 0.0055\n",
      "Epoch 64/100\n",
      "79/79 [==============================] - 5s 64ms/step - loss: 1.6503e-04 - val_loss: 0.0061\n",
      "Epoch 65/100\n",
      "79/79 [==============================] - 5s 65ms/step - loss: 1.8530e-04 - val_loss: 0.0041\n",
      "Epoch 66/100\n",
      "79/79 [==============================] - 5s 66ms/step - loss: 1.2771e-04 - val_loss: 0.0030\n",
      "Epoch 67/100\n",
      "79/79 [==============================] - 5s 66ms/step - loss: 1.4578e-04 - val_loss: 0.0029\n",
      "Epoch 68/100\n",
      "79/79 [==============================] - 5s 65ms/step - loss: 1.8853e-04 - val_loss: 0.0030\n",
      "Epoch 69/100\n",
      "79/79 [==============================] - 5s 66ms/step - loss: 1.5016e-04 - val_loss: 0.0030\n",
      "Epoch 70/100\n",
      "79/79 [==============================] - 5s 64ms/step - loss: 1.3891e-04 - val_loss: 0.0042\n",
      "Epoch 71/100\n",
      "79/79 [==============================] - 5s 65ms/step - loss: 2.0074e-04 - val_loss: 0.0079\n",
      "Epoch 72/100\n",
      "79/79 [==============================] - 5s 65ms/step - loss: 1.3152e-04 - val_loss: 0.0045\n",
      "Epoch 73/100\n",
      "79/79 [==============================] - 5s 65ms/step - loss: 2.0151e-04 - val_loss: 0.0044\n",
      "Epoch 74/100\n",
      "79/79 [==============================] - 5s 66ms/step - loss: 1.5999e-04 - val_loss: 0.0033\n",
      "Epoch 75/100\n",
      "79/79 [==============================] - 5s 66ms/step - loss: 2.0948e-04 - val_loss: 0.0034\n",
      "Epoch 76/100\n",
      "79/79 [==============================] - 5s 66ms/step - loss: 1.1172e-04 - val_loss: 0.0037\n",
      "Epoch 77/100\n",
      "79/79 [==============================] - 5s 66ms/step - loss: 1.8864e-04 - val_loss: 0.0040\n",
      "Epoch 78/100\n",
      "79/79 [==============================] - 5s 67ms/step - loss: 1.7559e-04 - val_loss: 0.0023\n",
      "Epoch 79/100\n",
      "79/79 [==============================] - 5s 67ms/step - loss: 1.7477e-04 - val_loss: 0.0043\n",
      "Epoch 80/100\n",
      "79/79 [==============================] - 5s 66ms/step - loss: 1.5946e-04 - val_loss: 0.0032\n",
      "Epoch 81/100\n",
      "79/79 [==============================] - 5s 67ms/step - loss: 1.1910e-04 - val_loss: 0.0031\n",
      "Epoch 82/100\n",
      "79/79 [==============================] - 5s 66ms/step - loss: 1.3295e-04 - val_loss: 0.0023\n",
      "Epoch 83/100\n",
      "79/79 [==============================] - 5s 66ms/step - loss: 1.3666e-04 - val_loss: 0.0034\n",
      "Epoch 84/100\n",
      "79/79 [==============================] - 5s 66ms/step - loss: 1.2366e-04 - val_loss: 0.0043\n",
      "Epoch 85/100\n",
      "79/79 [==============================] - 5s 67ms/step - loss: 1.1949e-04 - val_loss: 0.0021\n",
      "Epoch 86/100\n",
      "79/79 [==============================] - 5s 66ms/step - loss: 1.9637e-04 - val_loss: 0.0028\n",
      "Epoch 87/100\n",
      "79/79 [==============================] - 5s 67ms/step - loss: 1.4637e-04 - val_loss: 0.0047\n",
      "Epoch 88/100\n",
      "79/79 [==============================] - 5s 66ms/step - loss: 1.0968e-04 - val_loss: 0.0032\n",
      "Epoch 89/100\n",
      "79/79 [==============================] - 5s 66ms/step - loss: 1.3884e-04 - val_loss: 0.0059\n",
      "Epoch 90/100\n",
      "79/79 [==============================] - 5s 65ms/step - loss: 1.1062e-04 - val_loss: 0.0034\n",
      "Epoch 91/100\n",
      "79/79 [==============================] - 5s 66ms/step - loss: 1.6924e-04 - val_loss: 0.0025\n",
      "Epoch 92/100\n",
      "79/79 [==============================] - 5s 66ms/step - loss: 1.3909e-04 - val_loss: 0.0031\n",
      "Epoch 93/100\n",
      "79/79 [==============================] - 5s 65ms/step - loss: 1.6132e-04 - val_loss: 0.0045\n",
      "Epoch 94/100\n",
      "79/79 [==============================] - 5s 66ms/step - loss: 1.3718e-04 - val_loss: 0.0047\n",
      "Epoch 95/100\n",
      "79/79 [==============================] - 5s 67ms/step - loss: 1.5469e-04 - val_loss: 0.0049\n",
      "Epoch 96/100\n",
      "79/79 [==============================] - 5s 67ms/step - loss: 1.3363e-04 - val_loss: 0.0056\n",
      "Epoch 97/100\n",
      "79/79 [==============================] - 5s 67ms/step - loss: 1.0658e-04 - val_loss: 0.0086\n",
      "Epoch 98/100\n",
      "79/79 [==============================] - 5s 66ms/step - loss: 1.5657e-04 - val_loss: 0.0051\n",
      "Epoch 99/100\n",
      "79/79 [==============================] - 5s 66ms/step - loss: 1.8770e-04 - val_loss: 0.0050\n",
      "Epoch 100/100\n",
      "79/79 [==============================] - 5s 66ms/step - loss: 1.6224e-04 - val_loss: 0.0070\n"
     ]
    }
   ],
   "source": [
    "model_fit = lstm_model.fit(X_train,Y_train,validation_data = (X_val,Y_val),epochs = 100,batch_size = 16,verbose = 1)\n",
    "lstm_model.save(\"ETH_LSTM.keras\")"
   ]
  },
  {
   "cell_type": "code",
   "execution_count": 13,
   "metadata": {},
   "outputs": [
    {
     "data": {
      "image/png": "[encoded data removed]",
      "text/plain": [
       "<Figure size 640x480 with 1 Axes>"
      ]
     },
     "metadata": {},
     "output_type": "display_data"
    }
   ],
   "source": [
    "plt.plot(model_fit.history['loss'], label='train')\n",
    "plt.plot(model_fit.history['val_loss'], label='val')\n",
    "plt.legend()\n",
    "plt.show()"
   ]
  },
  {
   "cell_type": "code",
   "execution_count": 14,
   "metadata": {},
   "outputs": [
    {
     "name": "stdout",
     "output_type": "stream",
     "text": [
      "40/40 [==============================] - 3s 31ms/step\n",
      "8/8 [==============================] - 0s 26ms/step\n",
      "15/15 [==============================] - 0s 28ms/step\n"
     ]
    }
   ],
   "source": [
    "train_predict = lstm_model.predict(X_train)\n",
    "val_predict = lstm_model.predict(X_val)\n",
    "test_predict = lstm_model.predict(X_test)\n",
    "train_predictraw = Yscaler.inverse_transform(train_predict).reshape((train_predict.shape[0],))\n",
    "val_predictraw = Yscaler.inverse_transform(val_predict).reshape((val_predict.shape[0],))\n",
    "test_predictraw = Yscaler.inverse_transform(test_predict).reshape((test_predict.shape[0],))"
   ]
  },
  {
   "cell_type": "code",
   "execution_count": 15,
   "metadata": {},
   "outputs": [
    {
     "name": "stdout",
     "output_type": "stream",
     "text": [
      "0.019573611944491483\n",
      "0.11832194670375097\n",
      "0.012991377251969643\n"
     ]
    }
   ],
   "source": [
    "print(math.sqrt(mean_squared_error(Y_train,train_predict)))\n",
    "print(math.sqrt(mean_squared_error(Y_val,val_predict)))\n",
    "print(math.sqrt(mean_squared_error(Y_test,test_predict)))"
   ]
  },
  {
   "cell_type": "code",
   "execution_count": 16,
   "metadata": {},
   "outputs": [
    {
     "data": {
      "text/plain": [
       "array([ 320.88400269,  299.25299072,  314.68099976, ..., 2217.71020508,\n",
       "       2267.19970703, 2267.88598633])"
      ]
     },
     "metadata": {},
     "output_type": "display_data"
    }
   ],
   "source": [
    "dataclose = dataclose.transpose()[0]\n",
    "display(dataclose)"
   ]
  },
  {
   "cell_type": "code",
   "execution_count": 17,
   "metadata": {},
   "outputs": [
    {
     "data": {
      "image/png": "[encoded data removed]",
      "text/plain": [
       "<Figure size 640x480 with 1 Axes>"
      ]
     },
     "metadata": {},
     "output_type": "display_data"
    }
   ],
   "source": [
    "plt.plot(dataclose)\n",
    "\n",
    "trainPredictPlot = np.empty_like(dataclose)\n",
    "trainPredictPlot.fill(np.nan)\n",
    "trainPredictPlot[timestep:len(train_predictraw)+timestep:] = train_predictraw\n",
    "plt.plot(trainPredictPlot)\n",
    "\n",
    "valPredictPlot = np.empty_like(dataclose)\n",
    "valPredictPlot.fill(np.nan)\n",
    "valPredictPlot[len(train_predictraw)+timestep*2:len(train_predictraw)+timestep*2+len(val_predictraw):] = val_predictraw\n",
    "plt.plot(valPredictPlot)\n",
    "\n",
    "testPredictPlot = np.empty_like(dataclose)\n",
    "testPredictPlot.fill(np.nan)\n",
    "testPredictPlot[len(train_predictraw)+timestep*3+len(val_predictraw):len(train_predictraw)+timestep*3+len(val_predictraw)+len(test_predictraw):] = test_predictraw\n",
    "plt.plot(testPredictPlot)\n",
    "\n",
    "plt.show()"
   ]
  }
 ],
 "metadata": {
  "kernelspec": {
   "display_name": "MLGPUEnv",
   "language": "python",
   "name": "python3"
  },
  "language_info": {
   "codemirror_mode": {
    "name": "ipython",
    "version": 3
   },
   "file_extension": ".py",
   "mimetype": "text/x-python",
   "name": "python",
   "nbconvert_exporter": "python",
   "pygments_lexer": "ipython3",
   "version": "3.10.13"
  }
 },
 "nbformat": 4,
 "nbformat_minor": 2
}
