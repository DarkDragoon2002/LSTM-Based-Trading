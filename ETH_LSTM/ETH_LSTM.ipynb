{
 "cells": [
  {
   "cell_type": "code",
   "execution_count": 1,
   "metadata": {},
   "outputs": [],
   "source": [
    "import pandas as pd\n",
    "import tensorflow as tf\n",
    "import yfinance as yf\n",
    "import numpy as np\n",
    "import keras\n",
    "import tensorflow as tf\n",
    "from sklearn.model_selection import train_test_split\n",
    "from sklearn.metrics import mean_squared_error\n",
    "from sklearn.preprocessing import MinMaxScaler\n",
    "from keras.models import Model\n",
    "from keras.models import Sequential\n",
    "from keras.layers import Dense, Dropout, LSTM, Input,GlobalAveragePooling1D\n",
    "from keras import optimizers\n",
    "import matplotlib.pyplot as plt\n",
    "import keras_tuner as kt\n",
    "from datetime import datetime, timedelta\n",
    "import math"
   ]
  },
  {
   "cell_type": "code",
   "execution_count": 2,
   "metadata": {},
   "outputs": [
    {
     "name": "stdout",
     "output_type": "stream",
     "text": [
      "[name: \"/device:CPU:0\"\n",
      "device_type: \"CPU\"\n",
      "memory_limit: 268435456\n",
      "locality {\n",
      "}\n",
      "incarnation: 16638067227258448125\n",
      "xla_global_id: -1\n",
      ", name: \"/device:GPU:0\"\n",
      "device_type: \"GPU\"\n",
      "memory_limit: 5729419264\n",
      "locality {\n",
      "  bus_id: 1\n",
      "  links {\n",
      "  }\n",
      "}\n",
      "incarnation: 14271248395393718624\n",
      "physical_device_desc: \"device: 0, name: NVIDIA GeForce RTX 4060 Laptop GPU, pci bus id: 0000:01:00.0, compute capability: 8.9\"\n",
      "xla_global_id: 416903419\n",
      "]\n",
      "INFO:tensorflow:Mixed precision compatibility check (mixed_float16): OK\n",
      "Your GPU will likely run quickly with dtype policy mixed_float16 as it has compute capability of at least 7.0. Your GPU: NVIDIA GeForce RTX 4060 Laptop GPU, compute capability 8.9\n"
     ]
    }
   ],
   "source": [
    "from tensorflow.python.client import device_lib\n",
    "print(device_lib.list_local_devices())\n",
    "policy = keras.mixed_precision.Policy('mixed_float16')\n",
    "keras.mixed_precision.set_global_policy(policy)"
   ]
  },
  {
   "cell_type": "code",
   "execution_count": 3,
   "metadata": {},
   "outputs": [],
   "source": [
    "timestep = 100\n",
    "testfrac = 0.25\n",
    "valfrac = 0.2"
   ]
  },
  {
   "cell_type": "code",
   "execution_count": 4,
   "metadata": {},
   "outputs": [
    {
     "data": {
      "text/plain": [
       "'2024-01-22'"
      ]
     },
     "metadata": {},
     "output_type": "display_data"
    },
    {
     "name": "stderr",
     "output_type": "stream",
     "text": [
      "[*********************100%%**********************]  1 of 1 completed\n"
     ]
    },
    {
     "data": {
      "text/plain": [
       "(2264, 1)"
      ]
     },
     "metadata": {},
     "output_type": "display_data"
    }
   ],
   "source": [
    "start_date = '2010-01-01'\n",
    "today = datetime.now()\n",
    "end_date = datetime.strftime(today, '%Y-%m-%d')\n",
    "display(end_date)\n",
    "data = yf.download(\"ETH-USD\", start=start_date, end=end_date) #Displays till yesterday as today is not complete\n",
    "data = data.reset_index()\n",
    "dataclose = np.array([data['Close']]).transpose()\n",
    "display(dataclose.shape)"
   ]
  },
  {
   "cell_type": "code",
   "execution_count": 5,
   "metadata": {},
   "outputs": [
    {
     "data": {
      "text/html": [
       "<div>\n",
       "<style scoped>\n",
       "    .dataframe tbody tr th:only-of-type {\n",
       "        vertical-align: middle;\n",
       "    }\n",
       "\n",
       "    .dataframe tbody tr th {\n",
       "        vertical-align: top;\n",
       "    }\n",
       "\n",
       "    .dataframe thead th {\n",
       "        text-align: right;\n",
       "    }\n",
       "</style>\n",
       "<table border=\"1\" class=\"dataframe\">\n",
       "  <thead>\n",
       "    <tr style=\"text-align: right;\">\n",
       "      <th></th>\n",
       "      <th>Open</th>\n",
       "      <th>High</th>\n",
       "      <th>Low</th>\n",
       "      <th>Close</th>\n",
       "      <th>Volume</th>\n",
       "    </tr>\n",
       "  </thead>\n",
       "  <tbody>\n",
       "    <tr>\n",
       "      <th>0</th>\n",
       "      <td>308.644989</td>\n",
       "      <td>329.451996</td>\n",
       "      <td>307.056000</td>\n",
       "      <td>320.884003</td>\n",
       "      <td>893249984</td>\n",
       "    </tr>\n",
       "    <tr>\n",
       "      <th>1</th>\n",
       "      <td>320.670990</td>\n",
       "      <td>324.717987</td>\n",
       "      <td>294.541992</td>\n",
       "      <td>299.252991</td>\n",
       "      <td>885985984</td>\n",
       "    </tr>\n",
       "    <tr>\n",
       "      <th>2</th>\n",
       "      <td>298.585999</td>\n",
       "      <td>319.453003</td>\n",
       "      <td>298.191986</td>\n",
       "      <td>314.681000</td>\n",
       "      <td>842300992</td>\n",
       "    </tr>\n",
       "    <tr>\n",
       "      <th>3</th>\n",
       "      <td>314.690002</td>\n",
       "      <td>319.153015</td>\n",
       "      <td>298.513000</td>\n",
       "      <td>307.907990</td>\n",
       "      <td>1613479936</td>\n",
       "    </tr>\n",
       "    <tr>\n",
       "      <th>4</th>\n",
       "      <td>307.024994</td>\n",
       "      <td>328.415009</td>\n",
       "      <td>307.024994</td>\n",
       "      <td>316.716003</td>\n",
       "      <td>1041889984</td>\n",
       "    </tr>\n",
       "    <tr>\n",
       "      <th>...</th>\n",
       "      <td>...</td>\n",
       "      <td>...</td>\n",
       "      <td>...</td>\n",
       "      <td>...</td>\n",
       "      <td>...</td>\n",
       "    </tr>\n",
       "    <tr>\n",
       "      <th>2259</th>\n",
       "      <td>2510.627197</td>\n",
       "      <td>2613.566895</td>\n",
       "      <td>2500.003906</td>\n",
       "      <td>2587.691162</td>\n",
       "      <td>11063317095</td>\n",
       "    </tr>\n",
       "    <tr>\n",
       "      <th>2260</th>\n",
       "      <td>2587.044678</td>\n",
       "      <td>2592.737061</td>\n",
       "      <td>2508.432861</td>\n",
       "      <td>2528.369385</td>\n",
       "      <td>10441017520</td>\n",
       "    </tr>\n",
       "    <tr>\n",
       "      <th>2261</th>\n",
       "      <td>2528.593262</td>\n",
       "      <td>2546.263916</td>\n",
       "      <td>2426.135498</td>\n",
       "      <td>2467.018799</td>\n",
       "      <td>11900028080</td>\n",
       "    </tr>\n",
       "    <tr>\n",
       "      <th>2262</th>\n",
       "      <td>2468.688965</td>\n",
       "      <td>2501.305176</td>\n",
       "      <td>2414.710938</td>\n",
       "      <td>2489.498535</td>\n",
       "      <td>11405278376</td>\n",
       "    </tr>\n",
       "    <tr>\n",
       "      <th>2263</th>\n",
       "      <td>2489.847656</td>\n",
       "      <td>2489.847656</td>\n",
       "      <td>2456.095703</td>\n",
       "      <td>2469.589111</td>\n",
       "      <td>5297826161</td>\n",
       "    </tr>\n",
       "  </tbody>\n",
       "</table>\n",
       "<p>2264 rows × 5 columns</p>\n",
       "</div>"
      ],
      "text/plain": [
       "             Open         High          Low        Close       Volume\n",
       "0      308.644989   329.451996   307.056000   320.884003    893249984\n",
       "1      320.670990   324.717987   294.541992   299.252991    885985984\n",
       "2      298.585999   319.453003   298.191986   314.681000    842300992\n",
       "3      314.690002   319.153015   298.513000   307.907990   1613479936\n",
       "4      307.024994   328.415009   307.024994   316.716003   1041889984\n",
       "...           ...          ...          ...          ...          ...\n",
       "2259  2510.627197  2613.566895  2500.003906  2587.691162  11063317095\n",
       "2260  2587.044678  2592.737061  2508.432861  2528.369385  10441017520\n",
       "2261  2528.593262  2546.263916  2426.135498  2467.018799  11900028080\n",
       "2262  2468.688965  2501.305176  2414.710938  2489.498535  11405278376\n",
       "2263  2489.847656  2489.847656  2456.095703  2469.589111   5297826161\n",
       "\n",
       "[2264 rows x 5 columns]"
      ]
     },
     "metadata": {},
     "output_type": "display_data"
    },
    {
     "data": {
      "image/png": "[encoded data removed]",
      "text/plain": [
       "<Figure size 640x480 with 1 Axes>"
      ]
     },
     "metadata": {},
     "output_type": "display_data"
    }
   ],
   "source": [
    "data = data[['Open', 'High', 'Low', 'Close', 'Volume']]\n",
    "display(data)\n",
    "plt.plot(dataclose)\n",
    "plt.show()"
   ]
  },
  {
   "cell_type": "code",
   "execution_count": 6,
   "metadata": {},
   "outputs": [
    {
     "data": {
      "text/plain": [
       "(2264, 5)"
      ]
     },
     "metadata": {},
     "output_type": "display_data"
    },
    {
     "data": {
      "text/plain": [
       "(2264, 1)"
      ]
     },
     "metadata": {},
     "output_type": "display_data"
    }
   ],
   "source": [
    "Xscaler = MinMaxScaler()\n",
    "Xdata = Xscaler.fit_transform(np.array(data))\n",
    "Yscaler = MinMaxScaler()\n",
    "Ydata = Yscaler.fit_transform(dataclose)\n",
    "display(Xdata.shape)\n",
    "display(Ydata.shape)"
   ]
  },
  {
   "cell_type": "code",
   "execution_count": 7,
   "metadata": {},
   "outputs": [],
   "source": [
    "X_temp, X_test = train_test_split(Xdata, test_size=testfrac, shuffle=False)\n",
    "Y_temp, Y_test = train_test_split(Ydata, test_size=testfrac, shuffle=False)\n",
    "X_train, X_val = train_test_split(X_temp, test_size=valfrac, shuffle=False)\n",
    "Y_train, Y_val = train_test_split(Y_temp, test_size=valfrac, shuffle=False)"
   ]
  },
  {
   "cell_type": "code",
   "execution_count": 8,
   "metadata": {},
   "outputs": [],
   "source": [
    "def build_timeseries(Xdata, Ydata, time_step):\n",
    "    dim_0 = Xdata.shape[0] - time_step\n",
    "    dim_1 = Xdata.shape[1]\n",
    "\n",
    "    x = np.zeros((dim_0, time_step, dim_1))\n",
    "    y = np.zeros((Ydata.shape[0] - time_step,))\n",
    "\n",
    "    for i in range(dim_0):\n",
    "        x[i] = Xdata[i:time_step+i]\n",
    "        y[i] = Ydata[time_step+i]\n",
    "    return x, y"
   ]
  },
  {
   "cell_type": "code",
   "execution_count": 9,
   "metadata": {},
   "outputs": [
    {
     "name": "stdout",
     "output_type": "stream",
     "text": [
      "X Train Shape:  (1258, 100, 5)    Y Train Shape:  (1258,)\n",
      "X Val Shape:  (240, 100, 5)    Y Val Shape:  (240,)\n",
      "X Test Shape:  (466, 100, 5)    Y Test Shape:  (466,)\n"
     ]
    },
    {
     "name": "stderr",
     "output_type": "stream",
     "text": [
      "C:\\Users\\user\\AppData\\Local\\Temp\\ipykernel_5272\\2375792492.py:10: DeprecationWarning: Conversion of an array with ndim > 0 to a scalar is deprecated, and will error in future. Ensure you extract a single element from your array before performing this operation. (Deprecated NumPy 1.25.)\n",
      "  y[i] = Ydata[time_step+i]\n"
     ]
    }
   ],
   "source": [
    "X_train, Y_train = build_timeseries(X_train, Y_train, timestep)\n",
    "X_test, Y_test = build_timeseries(X_test, Y_test, timestep)\n",
    "X_val, Y_val = build_timeseries(X_val, Y_val, timestep)\n",
    "print(\"X Train Shape: \", X_train.shape, \"   Y Train Shape: \", Y_train.shape)\n",
    "print(\"X Val Shape: \", X_val.shape, \"   Y Val Shape: \", Y_val.shape)\n",
    "print(\"X Test Shape: \", X_test.shape, \"   Y Test Shape: \", Y_test.shape)"
   ]
  },
  {
   "cell_type": "code",
   "execution_count": 10,
   "metadata": {},
   "outputs": [
    {
     "name": "stdout",
     "output_type": "stream",
     "text": [
      "Model: \"sequential\"\n",
      "_________________________________________________________________\n",
      " Layer (type)                Output Shape              Param #   \n",
      "=================================================================\n",
      " lstm (LSTM)                 (None, 100, 1224)         6022080   \n",
      "                                                                 \n",
      " lstm_1 (LSTM)               (None, 100, 612)          4496976   \n",
      "                                                                 \n",
      " lstm_2 (LSTM)               (None, 100, 612)          2998800   \n",
      "                                                                 \n",
      " lstm_3 (LSTM)               (None, 100, 612)          2998800   \n",
      "                                                                 \n",
      " lstm_4 (LSTM)               (None, 100, 256)          889856    \n",
      "                                                                 \n",
      " lstm_5 (LSTM)               (None, 100, 256)          525312    \n",
      "                                                                 \n",
      " global_average_pooling1d (G  (None, 256)              0         \n",
      " lobalAveragePooling1D)                                          \n",
      "                                                                 \n",
      " dense (Dense)               (None, 256)               65792     \n",
      "                                                                 \n",
      " dense_1 (Dense)             (None, 256)               65792     \n",
      "                                                                 \n",
      " dense_2 (Dense)             (None, 128)               32896     \n",
      "                                                                 \n",
      " dropout (Dropout)           (None, 128)               0         \n",
      "                                                                 \n",
      " dense_3 (Dense)             (None, 128)               16512     \n",
      "                                                                 \n",
      " dense_4 (Dense)             (None, 128)               16512     \n",
      "                                                                 \n",
      " dense_5 (Dense)             (None, 128)               16512     \n",
      "                                                                 \n",
      " dense_6 (Dense)             (None, 1)                 129       \n",
      "                                                                 \n",
      "=================================================================\n",
      "Total params: 18,145,969\n",
      "Trainable params: 18,145,969\n",
      "Non-trainable params: 0\n",
      "_________________________________________________________________\n"
     ]
    }
   ],
   "source": [
    "def model_builder(hp):\n",
    "    lstm_model = Sequential()\n",
    "    \n",
    "    lstm_units_0 = hp.Int('units_lstm_0', min_value=128, max_value=256, step=64)\n",
    "    lstm_units_1 = hp.Int('units_lstm_1', min_value=16, max_value=256, step=64)\n",
    "    dense_units_0 = hp.Int('units_dense_0', min_value=16, max_value=128, step=64)\n",
    "    lstm_layers = hp.Int('lstm_layers', min_value=1, max_value=4, step=1)\n",
    "    dense_relu_layers = hp.Int('dense_relu_layers', min_value=1, max_value=4, step=1)\n",
    "    dense_lin_layers = hp.Int('dense_lin_layers', min_value=1, max_value=4, step=1)\n",
    "    lstm_model.add(Input(shape=(X_train.shape[1], X_train.shape[2])))\n",
    "    lstm_model.add(LSTM(units=lstm_units_0, return_sequences=True))\n",
    "    for i in range(lstm_layers):\n",
    "        lstm_model.add(LSTM(units=lstm_units_1, return_sequences=True))\n",
    "    lstm_model.add(GlobalAveragePooling1D())\n",
    "    for j in range(dense_relu_layers):\n",
    "        lstm_model.add(Dense(units=dense_units_0,activation='relu'))\n",
    "    lstm_model.add(Dropout(0.05))\n",
    "    for k in range(dense_lin_layers):\n",
    "        lstm_model.add(Dense(units=dense_units_0, activation='linear'))\n",
    "    lstm_model.add(Dense(units=1))\n",
    "    lstm_model.summary()\n",
    "    \n",
    "    hyperparameters_learning_rate = hp.Choice('learning_rate', values=[0.01, 0.05, 0.1])\n",
    "    \n",
    "    lstm_model.compile(loss='mean_squared_error', optimizer=keras.optimizers.Adam(learning_rate=hyperparameters_learning_rate))\n",
    "    \n",
    "    return lstm_model"
   ]
  },
  {
   "cell_type": "code",
   "execution_count": null,
   "metadata": {},
   "outputs": [],
   "source": [
    "tuner = kt.BayesianOptimization(\n",
    "    model_builder,\n",
    "    objective='val_loss',\n",
    "    max_trials=100)\n",
    "tuner.search(X_train, Y_train, epochs=25, validation_data=(X_val,Y_val))\n",
    "lstm_model  = tuner.get_best_models()[0]  \n",
    "print(lstm_model.summary())\n",
    "callback = tf.keras.callbacks.EarlyStopping(monitor='val_loss', patience=3)"
   ]
  },
  {
   "cell_type": "code",
   "execution_count": 11,
   "metadata": {},
   "outputs": [
    {
     "name": "stdout",
     "output_type": "stream",
     "text": [
      "Epoch 1/100\n",
      "20/20 [==============================] - 11s 165ms/step - loss: 0.0241 - val_loss: 0.0552\n",
      "Epoch 2/100\n",
      "20/20 [==============================] - 2s 95ms/step - loss: 0.0041 - val_loss: 0.0496\n",
      "Epoch 3/100\n",
      "20/20 [==============================] - 2s 94ms/step - loss: 0.0026 - val_loss: 0.0471\n",
      "Epoch 4/100\n",
      "20/20 [==============================] - 2s 91ms/step - loss: 0.0028 - val_loss: 0.0532\n",
      "Epoch 5/100\n",
      "20/20 [==============================] - 2s 92ms/step - loss: 0.0025 - val_loss: 0.0770\n",
      "Epoch 6/100\n",
      "20/20 [==============================] - 2s 92ms/step - loss: 0.0042 - val_loss: 0.0346\n",
      "Epoch 7/100\n",
      "20/20 [==============================] - 2s 92ms/step - loss: 0.0120 - val_loss: 0.1017\n",
      "Epoch 8/100\n",
      "20/20 [==============================] - 2s 91ms/step - loss: 0.0041 - val_loss: 0.0514\n",
      "Epoch 9/100\n",
      "20/20 [==============================] - 2s 91ms/step - loss: 0.0027 - val_loss: 0.0424\n",
      "Epoch 10/100\n",
      "20/20 [==============================] - 2s 91ms/step - loss: 0.0027 - val_loss: 0.0648\n",
      "Epoch 11/100\n",
      "20/20 [==============================] - 2s 92ms/step - loss: 0.0020 - val_loss: 0.0666\n",
      "Epoch 12/100\n",
      "20/20 [==============================] - 2s 92ms/step - loss: 0.0020 - val_loss: 0.0524\n",
      "Epoch 13/100\n",
      "20/20 [==============================] - 2s 92ms/step - loss: 0.0015 - val_loss: 0.0537\n",
      "Epoch 14/100\n",
      "20/20 [==============================] - 2s 93ms/step - loss: 0.0022 - val_loss: 0.0816\n",
      "Epoch 15/100\n",
      "20/20 [==============================] - 2s 91ms/step - loss: 0.0017 - val_loss: 0.0795\n",
      "Epoch 16/100\n",
      "20/20 [==============================] - 2s 91ms/step - loss: 0.0016 - val_loss: 0.0554\n",
      "Epoch 17/100\n",
      "20/20 [==============================] - 2s 94ms/step - loss: 0.0016 - val_loss: 0.0366\n",
      "Epoch 18/100\n",
      "20/20 [==============================] - 2s 91ms/step - loss: 0.0015 - val_loss: 0.0658\n",
      "Epoch 19/100\n",
      "20/20 [==============================] - 2s 91ms/step - loss: 0.0015 - val_loss: 0.0531\n",
      "Epoch 20/100\n",
      "20/20 [==============================] - 2s 91ms/step - loss: 0.0027 - val_loss: 0.0839\n",
      "Epoch 21/100\n",
      "20/20 [==============================] - 2s 91ms/step - loss: 0.0031 - val_loss: 0.0832\n",
      "Epoch 22/100\n",
      "20/20 [==============================] - 2s 92ms/step - loss: 0.0026 - val_loss: 0.0667\n",
      "Epoch 23/100\n",
      "20/20 [==============================] - 2s 91ms/step - loss: 0.0020 - val_loss: 0.0751\n",
      "Epoch 24/100\n",
      "20/20 [==============================] - 2s 91ms/step - loss: 0.0018 - val_loss: 0.0768\n",
      "Epoch 25/100\n",
      "20/20 [==============================] - 2s 94ms/step - loss: 0.0018 - val_loss: 0.0835\n",
      "Epoch 26/100\n",
      "20/20 [==============================] - 2s 91ms/step - loss: 0.0015 - val_loss: 0.0829\n",
      "Epoch 27/100\n",
      "20/20 [==============================] - 2s 92ms/step - loss: 0.0013 - val_loss: 0.0991\n",
      "Epoch 28/100\n",
      "20/20 [==============================] - 2s 93ms/step - loss: 0.0021 - val_loss: 0.0408\n",
      "Epoch 29/100\n",
      "20/20 [==============================] - 2s 92ms/step - loss: 0.0024 - val_loss: 0.0694\n",
      "Epoch 30/100\n",
      "20/20 [==============================] - 2s 91ms/step - loss: 0.0018 - val_loss: 0.0741\n",
      "Epoch 31/100\n",
      "20/20 [==============================] - 2s 92ms/step - loss: 0.0019 - val_loss: 0.0728\n",
      "Epoch 32/100\n",
      "20/20 [==============================] - 2s 94ms/step - loss: 0.0027 - val_loss: 0.0664\n",
      "Epoch 33/100\n",
      "20/20 [==============================] - 2s 93ms/step - loss: 0.0019 - val_loss: 0.0805\n",
      "Epoch 34/100\n",
      "20/20 [==============================] - 2s 92ms/step - loss: 0.0013 - val_loss: 0.0698\n",
      "Epoch 35/100\n",
      "20/20 [==============================] - 2s 91ms/step - loss: 0.0012 - val_loss: 0.0803\n",
      "Epoch 36/100\n",
      "20/20 [==============================] - 2s 92ms/step - loss: 0.0016 - val_loss: 0.0618\n",
      "Epoch 37/100\n",
      "20/20 [==============================] - 2s 92ms/step - loss: 0.0027 - val_loss: 0.0640\n",
      "Epoch 38/100\n",
      "20/20 [==============================] - 2s 92ms/step - loss: 0.0021 - val_loss: 0.0625\n",
      "Epoch 39/100\n",
      "20/20 [==============================] - 2s 94ms/step - loss: 0.0013 - val_loss: 0.0881\n",
      "Epoch 40/100\n",
      "20/20 [==============================] - 2s 92ms/step - loss: 0.0012 - val_loss: 0.0734\n",
      "Epoch 41/100\n",
      "20/20 [==============================] - 2s 92ms/step - loss: 0.0012 - val_loss: 0.0794\n",
      "Epoch 42/100\n",
      "20/20 [==============================] - 2s 92ms/step - loss: 0.0012 - val_loss: 0.0860\n",
      "Epoch 43/100\n",
      "20/20 [==============================] - 2s 91ms/step - loss: 0.0014 - val_loss: 0.0693\n",
      "Epoch 44/100\n",
      "20/20 [==============================] - 2s 92ms/step - loss: 0.0010 - val_loss: 0.1005\n",
      "Epoch 45/100\n",
      "20/20 [==============================] - 2s 92ms/step - loss: 9.4202e-04 - val_loss: 0.1092\n",
      "Epoch 46/100\n",
      "20/20 [==============================] - 2s 94ms/step - loss: 0.0013 - val_loss: 0.0775\n",
      "Epoch 47/100\n",
      "20/20 [==============================] - 2s 92ms/step - loss: 0.0013 - val_loss: 0.0808\n",
      "Epoch 48/100\n",
      "20/20 [==============================] - 2s 93ms/step - loss: 0.0012 - val_loss: 0.0998\n",
      "Epoch 49/100\n",
      "20/20 [==============================] - 2s 95ms/step - loss: 0.0013 - val_loss: 0.1034\n",
      "Epoch 50/100\n",
      "20/20 [==============================] - 2s 93ms/step - loss: 0.0014 - val_loss: 0.0678\n",
      "Epoch 51/100\n",
      "20/20 [==============================] - 2s 92ms/step - loss: 9.6127e-04 - val_loss: 0.0687\n",
      "Epoch 52/100\n",
      "20/20 [==============================] - 2s 93ms/step - loss: 9.1968e-04 - val_loss: 0.0779\n",
      "Epoch 53/100\n",
      "20/20 [==============================] - 2s 94ms/step - loss: 7.6025e-04 - val_loss: 0.1159\n",
      "Epoch 54/100\n",
      "20/20 [==============================] - 2s 92ms/step - loss: 6.9153e-04 - val_loss: 0.1026\n",
      "Epoch 55/100\n",
      "20/20 [==============================] - 2s 95ms/step - loss: 9.9438e-04 - val_loss: 0.1205\n",
      "Epoch 56/100\n",
      "20/20 [==============================] - 2s 93ms/step - loss: 0.0011 - val_loss: 0.1588\n",
      "Epoch 57/100\n",
      "20/20 [==============================] - 2s 94ms/step - loss: 0.0012 - val_loss: 0.0935\n",
      "Epoch 58/100\n",
      "20/20 [==============================] - 2s 94ms/step - loss: 9.6914e-04 - val_loss: 0.0941\n",
      "Epoch 59/100\n",
      "20/20 [==============================] - 2s 92ms/step - loss: 8.6991e-04 - val_loss: 0.0757\n",
      "Epoch 60/100\n",
      "20/20 [==============================] - 2s 95ms/step - loss: 0.0014 - val_loss: 0.1209\n",
      "Epoch 61/100\n",
      "20/20 [==============================] - 2s 95ms/step - loss: 0.0012 - val_loss: 0.1319\n",
      "Epoch 62/100\n",
      "20/20 [==============================] - 2s 94ms/step - loss: 0.0010 - val_loss: 0.0717\n",
      "Epoch 63/100\n",
      "20/20 [==============================] - 2s 92ms/step - loss: 8.7193e-04 - val_loss: 0.1600\n",
      "Epoch 64/100\n",
      "20/20 [==============================] - 2s 93ms/step - loss: 6.5193e-04 - val_loss: 0.1307\n",
      "Epoch 65/100\n",
      "20/20 [==============================] - 2s 93ms/step - loss: 5.7450e-04 - val_loss: 0.2502\n",
      "Epoch 66/100\n",
      "20/20 [==============================] - 2s 92ms/step - loss: 6.6729e-04 - val_loss: 0.1001\n",
      "Epoch 67/100\n",
      "20/20 [==============================] - 2s 92ms/step - loss: 8.0427e-04 - val_loss: 0.2892\n",
      "Epoch 68/100\n",
      "20/20 [==============================] - 2s 92ms/step - loss: 6.7344e-04 - val_loss: 0.2093\n",
      "Epoch 69/100\n",
      "20/20 [==============================] - 2s 93ms/step - loss: 6.6183e-04 - val_loss: 0.2052\n",
      "Epoch 70/100\n",
      "20/20 [==============================] - 2s 93ms/step - loss: 7.5093e-04 - val_loss: 0.2862\n",
      "Epoch 71/100\n",
      "20/20 [==============================] - 2s 93ms/step - loss: 8.5383e-04 - val_loss: 0.1805\n",
      "Epoch 72/100\n",
      "20/20 [==============================] - 2s 94ms/step - loss: 8.8333e-04 - val_loss: 0.0532\n",
      "Epoch 73/100\n",
      "20/20 [==============================] - 2s 94ms/step - loss: 0.0014 - val_loss: 0.1233\n",
      "Epoch 74/100\n",
      "20/20 [==============================] - 2s 94ms/step - loss: 0.0015 - val_loss: 0.0762\n",
      "Epoch 75/100\n",
      "20/20 [==============================] - 2s 93ms/step - loss: 7.3195e-04 - val_loss: 0.0660\n",
      "Epoch 76/100\n",
      "20/20 [==============================] - 2s 92ms/step - loss: 6.3104e-04 - val_loss: 0.0646\n",
      "Epoch 77/100\n",
      "20/20 [==============================] - 2s 93ms/step - loss: 6.2332e-04 - val_loss: 0.0507\n",
      "Epoch 78/100\n",
      "20/20 [==============================] - 2s 93ms/step - loss: 8.0042e-04 - val_loss: 0.2339\n",
      "Epoch 79/100\n",
      "20/20 [==============================] - 2s 93ms/step - loss: 0.0025 - val_loss: 0.0417\n",
      "Epoch 80/100\n",
      "20/20 [==============================] - 2s 94ms/step - loss: 0.0020 - val_loss: 0.0979\n",
      "Epoch 81/100\n",
      "20/20 [==============================] - 2s 92ms/step - loss: 0.0015 - val_loss: 0.0782\n",
      "Epoch 82/100\n",
      "20/20 [==============================] - 2s 93ms/step - loss: 0.0022 - val_loss: 0.0517\n",
      "Epoch 83/100\n",
      "20/20 [==============================] - 2s 93ms/step - loss: 0.0024 - val_loss: 0.0647\n",
      "Epoch 84/100\n",
      "20/20 [==============================] - 2s 92ms/step - loss: 0.0018 - val_loss: 0.0562\n",
      "Epoch 85/100\n",
      "20/20 [==============================] - 2s 93ms/step - loss: 9.4388e-04 - val_loss: 0.0642\n",
      "Epoch 86/100\n",
      "20/20 [==============================] - 2s 93ms/step - loss: 0.0015 - val_loss: 0.0792\n",
      "Epoch 87/100\n",
      "20/20 [==============================] - 2s 94ms/step - loss: 0.0013 - val_loss: 0.0895\n",
      "Epoch 88/100\n",
      "20/20 [==============================] - 2s 95ms/step - loss: 8.2792e-04 - val_loss: 0.1178\n",
      "Epoch 89/100\n",
      "20/20 [==============================] - 2s 92ms/step - loss: 8.0431e-04 - val_loss: 0.0888\n",
      "Epoch 90/100\n",
      "20/20 [==============================] - 2s 93ms/step - loss: 6.3851e-04 - val_loss: 0.0877\n",
      "Epoch 91/100\n",
      "20/20 [==============================] - 2s 95ms/step - loss: 6.6865e-04 - val_loss: 0.1004\n",
      "Epoch 92/100\n",
      "20/20 [==============================] - 2s 93ms/step - loss: 7.7892e-04 - val_loss: 0.0795\n",
      "Epoch 93/100\n",
      "20/20 [==============================] - 2s 95ms/step - loss: 5.9397e-04 - val_loss: 0.1456\n",
      "Epoch 94/100\n",
      "20/20 [==============================] - 2s 94ms/step - loss: 5.2976e-04 - val_loss: 0.0705\n",
      "Epoch 95/100\n",
      "20/20 [==============================] - 2s 94ms/step - loss: 4.8023e-04 - val_loss: 0.0698\n",
      "Epoch 96/100\n",
      "20/20 [==============================] - 2s 94ms/step - loss: 5.1618e-04 - val_loss: 0.0896\n",
      "Epoch 97/100\n",
      "20/20 [==============================] - 2s 94ms/step - loss: 0.0034 - val_loss: 0.1413\n",
      "Epoch 98/100\n",
      "20/20 [==============================] - 2s 92ms/step - loss: 0.0045 - val_loss: 0.0408\n",
      "Epoch 99/100\n",
      "20/20 [==============================] - 2s 94ms/step - loss: 0.0041 - val_loss: 0.0619\n",
      "Epoch 100/100\n",
      "20/20 [==============================] - 2s 93ms/step - loss: 0.0085 - val_loss: 0.1982\n"
     ]
    },
    {
     "data": {
      "text/plain": [
       "<keras.callbacks.History at 0x20608f41720>"
      ]
     },
     "execution_count": 11,
     "metadata": {},
     "output_type": "execute_result"
    }
   ],
   "source": [
    "lstm_model.fit(X_train,Y_train,validation_data = (X_val,Y_val),epochs = 250,batch_size = 128,verbose = 1)"
   ]
  },
  {
   "cell_type": "code",
   "execution_count": 12,
   "metadata": {},
   "outputs": [
    {
     "name": "stdout",
     "output_type": "stream",
     "text": [
      "40/40 [==============================] - 2s 27ms/step\n",
      "8/8 [==============================] - 0s 27ms/step\n",
      "15/15 [==============================] - 0s 27ms/step\n"
     ]
    }
   ],
   "source": [
    "train_predict = lstm_model.predict(X_train)\n",
    "val_predict = lstm_model.predict(X_val)\n",
    "test_predict = lstm_model.predict(X_test)\n",
    "train_predictraw = Yscaler.inverse_transform(train_predict).reshape((train_predict.shape[0],))\n",
    "val_predictraw = Yscaler.inverse_transform(val_predict).reshape((val_predict.shape[0],))\n",
    "test_predictraw = Yscaler.inverse_transform(test_predict).reshape((test_predict.shape[0],))"
   ]
  },
  {
   "cell_type": "code",
   "execution_count": 13,
   "metadata": {},
   "outputs": [
    {
     "name": "stdout",
     "output_type": "stream",
     "text": [
      "0.13943630093750703\n",
      "0.44521775379371265\n",
      "0.2387124075310054\n"
     ]
    }
   ],
   "source": [
    "print(math.sqrt(mean_squared_error(Y_train,train_predict)))\n",
    "print(math.sqrt(mean_squared_error(Y_val,val_predict)))\n",
    "print(math.sqrt(mean_squared_error(Y_test,test_predict)))"
   ]
  },
  {
   "cell_type": "code",
   "execution_count": 14,
   "metadata": {},
   "outputs": [
    {
     "data": {
      "text/plain": [
       "array([ 320.88400269,  299.25299072,  314.68099976, ..., 2467.01879883,\n",
       "       2489.49853516, 2469.58911133])"
      ]
     },
     "metadata": {},
     "output_type": "display_data"
    }
   ],
   "source": [
    "dataclose = dataclose.transpose()[0]\n",
    "display(dataclose)"
   ]
  },
  {
   "cell_type": "code",
   "execution_count": 15,
   "metadata": {},
   "outputs": [
    {
     "data": {
      "image/png": "[encoded data removed]",
      "text/plain": [
       "<Figure size 640x480 with 1 Axes>"
      ]
     },
     "metadata": {},
     "output_type": "display_data"
    }
   ],
   "source": [
    "plt.plot(dataclose)\n",
    "\n",
    "trainPredictPlot = np.empty_like(dataclose)\n",
    "trainPredictPlot.fill(np.nan)\n",
    "trainPredictPlot[timestep:len(train_predictraw)+timestep:] = train_predictraw\n",
    "plt.plot(trainPredictPlot)\n",
    "\n",
    "valPredictPlot = np.empty_like(dataclose)\n",
    "valPredictPlot.fill(np.nan)\n",
    "valPredictPlot[len(train_predictraw)+timestep*2:len(train_predictraw)+timestep*2+len(val_predictraw):] = val_predictraw\n",
    "plt.plot(valPredictPlot)\n",
    "\n",
    "testPredictPlot = np.empty_like(dataclose)\n",
    "testPredictPlot.fill(np.nan)\n",
    "testPredictPlot[len(train_predictraw)+timestep*3+len(val_predictraw):len(train_predictraw)+timestep*3+len(val_predictraw)+len(test_predictraw):] = test_predictraw\n",
    "plt.plot(testPredictPlot)\n",
    "\n",
    "plt.show()"
   ]
  },
  {
   "cell_type": "code",
   "execution_count": null,
   "metadata": {},
   "outputs": [],
   "source": []
  }
 ],
 "metadata": {
  "kernelspec": {
   "display_name": "MLGPUEnv",
   "language": "python",
   "name": "python3"
  },
  "language_info": {
   "codemirror_mode": {
    "name": "ipython",
    "version": 3
   },
   "file_extension": ".py",
   "mimetype": "text/x-python",
   "name": "python",
   "nbconvert_exporter": "python",
   "pygments_lexer": "ipython3",
   "version": "3.10.13"
  }
 },
 "nbformat": 4,
 "nbformat_minor": 2
}
