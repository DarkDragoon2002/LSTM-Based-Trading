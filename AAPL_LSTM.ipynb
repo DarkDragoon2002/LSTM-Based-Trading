{
 "cells": [
  {
   "cell_type": "code",
   "execution_count": 1,
   "metadata": {},
   "outputs": [],
   "source": [
    "import pandas as pd\n",
    "import tensorflow as tf\n",
    "import yfinance as yf\n",
    "import numpy as np\n",
    "import keras\n",
    "import tensorflow as tf\n",
    "from sklearn.model_selection import train_test_split\n",
    "from sklearn.metrics import mean_squared_error\n",
    "from sklearn.preprocessing import MinMaxScaler\n",
    "from keras.models import Model\n",
    "from keras.models import Sequential\n",
    "from keras.layers import Dense, Dropout, LSTM, Input,GlobalAveragePooling1D\n",
    "from keras import optimizers\n",
    "import matplotlib.pyplot as plt\n",
    "import keras_tuner as kt\n",
    "from datetime import datetime, timedelta\n",
    "import math"
   ]
  },
  {
   "cell_type": "code",
   "execution_count": 2,
   "metadata": {},
   "outputs": [
    {
     "name": "stdout",
     "output_type": "stream",
     "text": [
      "[name: \"/device:CPU:0\"\n",
      "device_type: \"CPU\"\n",
      "memory_limit: 268435456\n",
      "locality {\n",
      "}\n",
      "incarnation: 1955653636530198454\n",
      "xla_global_id: -1\n",
      ", name: \"/device:GPU:0\"\n",
      "device_type: \"GPU\"\n",
      "memory_limit: 5729419264\n",
      "locality {\n",
      "  bus_id: 1\n",
      "  links {\n",
      "  }\n",
      "}\n",
      "incarnation: 14277076159069212441\n",
      "physical_device_desc: \"device: 0, name: NVIDIA GeForce RTX 4060 Laptop GPU, pci bus id: 0000:01:00.0, compute capability: 8.9\"\n",
      "xla_global_id: 416903419\n",
      "]\n"
     ]
    }
   ],
   "source": [
    "from tensorflow.python.client import device_lib\n",
    "print(device_lib.list_local_devices())"
   ]
  },
  {
   "cell_type": "code",
   "execution_count": 3,
   "metadata": {},
   "outputs": [],
   "source": [
    "timestep = 100\n",
    "testfrac = 0.25\n",
    "valfrac = 0.2"
   ]
  },
  {
   "cell_type": "code",
   "execution_count": 4,
   "metadata": {},
   "outputs": [
    {
     "data": {
      "text/plain": [
       "'2024-01-19'"
      ]
     },
     "metadata": {},
     "output_type": "display_data"
    },
    {
     "name": "stderr",
     "output_type": "stream",
     "text": [
      "[*********************100%%**********************]  1 of 1 completed\n"
     ]
    }
   ],
   "source": [
    "start_date = '2020-01-01'\n",
    "today = datetime.now()\n",
    "end_date = datetime.strftime(today, '%Y-%m-%d')\n",
    "display(end_date)\n",
    "data = yf.download(\"AAPL\", start=start_date, end=end_date) #Displays till yesterday as today is not complete\n",
    "data = data.reset_index()\n",
    "dataclose = data['Close']"
   ]
  },
  {
   "cell_type": "code",
   "execution_count": 5,
   "metadata": {},
   "outputs": [
    {
     "data": {
      "text/html": [
       "<div>\n",
       "<style scoped>\n",
       "    .dataframe tbody tr th:only-of-type {\n",
       "        vertical-align: middle;\n",
       "    }\n",
       "\n",
       "    .dataframe tbody tr th {\n",
       "        vertical-align: top;\n",
       "    }\n",
       "\n",
       "    .dataframe thead th {\n",
       "        text-align: right;\n",
       "    }\n",
       "</style>\n",
       "<table border=\"1\" class=\"dataframe\">\n",
       "  <thead>\n",
       "    <tr style=\"text-align: right;\">\n",
       "      <th></th>\n",
       "      <th>Open</th>\n",
       "      <th>High</th>\n",
       "      <th>Low</th>\n",
       "      <th>Close</th>\n",
       "      <th>Volume</th>\n",
       "    </tr>\n",
       "  </thead>\n",
       "  <tbody>\n",
       "    <tr>\n",
       "      <th>0</th>\n",
       "      <td>74.059998</td>\n",
       "      <td>75.150002</td>\n",
       "      <td>73.797501</td>\n",
       "      <td>75.087502</td>\n",
       "      <td>135480400</td>\n",
       "    </tr>\n",
       "    <tr>\n",
       "      <th>1</th>\n",
       "      <td>74.287498</td>\n",
       "      <td>75.144997</td>\n",
       "      <td>74.125000</td>\n",
       "      <td>74.357498</td>\n",
       "      <td>146322800</td>\n",
       "    </tr>\n",
       "    <tr>\n",
       "      <th>2</th>\n",
       "      <td>73.447502</td>\n",
       "      <td>74.989998</td>\n",
       "      <td>73.187500</td>\n",
       "      <td>74.949997</td>\n",
       "      <td>118387200</td>\n",
       "    </tr>\n",
       "    <tr>\n",
       "      <th>3</th>\n",
       "      <td>74.959999</td>\n",
       "      <td>75.224998</td>\n",
       "      <td>74.370003</td>\n",
       "      <td>74.597504</td>\n",
       "      <td>108872000</td>\n",
       "    </tr>\n",
       "    <tr>\n",
       "      <th>4</th>\n",
       "      <td>74.290001</td>\n",
       "      <td>76.110001</td>\n",
       "      <td>74.290001</td>\n",
       "      <td>75.797501</td>\n",
       "      <td>132079200</td>\n",
       "    </tr>\n",
       "    <tr>\n",
       "      <th>...</th>\n",
       "      <td>...</td>\n",
       "      <td>...</td>\n",
       "      <td>...</td>\n",
       "      <td>...</td>\n",
       "      <td>...</td>\n",
       "    </tr>\n",
       "    <tr>\n",
       "      <th>1013</th>\n",
       "      <td>186.539993</td>\n",
       "      <td>187.050003</td>\n",
       "      <td>183.619995</td>\n",
       "      <td>185.589996</td>\n",
       "      <td>49128400</td>\n",
       "    </tr>\n",
       "    <tr>\n",
       "      <th>1014</th>\n",
       "      <td>186.059998</td>\n",
       "      <td>186.740005</td>\n",
       "      <td>185.190002</td>\n",
       "      <td>185.919998</td>\n",
       "      <td>40444700</td>\n",
       "    </tr>\n",
       "    <tr>\n",
       "      <th>1015</th>\n",
       "      <td>182.160004</td>\n",
       "      <td>184.259995</td>\n",
       "      <td>180.929993</td>\n",
       "      <td>183.630005</td>\n",
       "      <td>65603000</td>\n",
       "    </tr>\n",
       "    <tr>\n",
       "      <th>1016</th>\n",
       "      <td>181.270004</td>\n",
       "      <td>182.929993</td>\n",
       "      <td>180.300003</td>\n",
       "      <td>182.679993</td>\n",
       "      <td>47317400</td>\n",
       "    </tr>\n",
       "    <tr>\n",
       "      <th>1017</th>\n",
       "      <td>186.089996</td>\n",
       "      <td>189.139999</td>\n",
       "      <td>185.830002</td>\n",
       "      <td>188.630005</td>\n",
       "      <td>77921000</td>\n",
       "    </tr>\n",
       "  </tbody>\n",
       "</table>\n",
       "<p>1018 rows × 5 columns</p>\n",
       "</div>"
      ],
      "text/plain": [
       "            Open        High         Low       Close     Volume\n",
       "0      74.059998   75.150002   73.797501   75.087502  135480400\n",
       "1      74.287498   75.144997   74.125000   74.357498  146322800\n",
       "2      73.447502   74.989998   73.187500   74.949997  118387200\n",
       "3      74.959999   75.224998   74.370003   74.597504  108872000\n",
       "4      74.290001   76.110001   74.290001   75.797501  132079200\n",
       "...          ...         ...         ...         ...        ...\n",
       "1013  186.539993  187.050003  183.619995  185.589996   49128400\n",
       "1014  186.059998  186.740005  185.190002  185.919998   40444700\n",
       "1015  182.160004  184.259995  180.929993  183.630005   65603000\n",
       "1016  181.270004  182.929993  180.300003  182.679993   47317400\n",
       "1017  186.089996  189.139999  185.830002  188.630005   77921000\n",
       "\n",
       "[1018 rows x 5 columns]"
      ]
     },
     "metadata": {},
     "output_type": "display_data"
    },
    {
     "data": {
      "image/png": "[encoded data removed]",
      "text/plain": [
       "<Figure size 640x480 with 1 Axes>"
      ]
     },
     "metadata": {},
     "output_type": "display_data"
    }
   ],
   "source": [
    "data = data[['Open', 'High', 'Low', 'Close', 'Volume']]\n",
    "display(data)\n",
    "plt.plot(dataclose)\n",
    "plt.show()"
   ]
  },
  {
   "cell_type": "code",
   "execution_count": 6,
   "metadata": {},
   "outputs": [
    {
     "data": {
      "text/plain": [
       "(1018, 5)"
      ]
     },
     "metadata": {},
     "output_type": "display_data"
    },
    {
     "data": {
      "text/plain": [
       "(1018,)"
      ]
     },
     "metadata": {},
     "output_type": "display_data"
    }
   ],
   "source": [
    "Xscaler = MinMaxScaler()\n",
    "Xdata = Xscaler.fit_transform(np.array(data))\n",
    "Yscaler = MinMaxScaler()\n",
    "Ydata = Yscaler.fit_transform(np.array([data['Close']]).transpose()).reshape((Xdata.shape[0],))\n",
    "display(Xdata.shape)\n",
    "display(Ydata.shape)"
   ]
  },
  {
   "cell_type": "code",
   "execution_count": 7,
   "metadata": {},
   "outputs": [],
   "source": [
    "X_temp, X_test = train_test_split(Xdata, test_size=testfrac, shuffle=False)\n",
    "Y_temp, Y_test = train_test_split(Ydata, test_size=testfrac, shuffle=False)\n",
    "X_train, X_val = train_test_split(X_temp, test_size=valfrac, shuffle=False)\n",
    "Y_train, Y_val = train_test_split(Y_temp, test_size=valfrac, shuffle=False)\n"
   ]
  },
  {
   "cell_type": "code",
   "execution_count": 8,
   "metadata": {},
   "outputs": [],
   "source": [
    "def build_timeseries(Xdata, Ydata, time_step):\n",
    "    dim_0 = Xdata.shape[0] - time_step\n",
    "    dim_1 = Xdata.shape[1]\n",
    "\n",
    "    x = np.zeros((dim_0, time_step, dim_1))\n",
    "    y = np.zeros((Ydata.shape[0] - time_step,))\n",
    "\n",
    "    for i in range(dim_0):\n",
    "        x[i] = Xdata[i:time_step+i]\n",
    "        y[i] = Ydata[time_step+i]\n",
    "    return x, y"
   ]
  },
  {
   "cell_type": "code",
   "execution_count": 9,
   "metadata": {},
   "outputs": [
    {
     "name": "stdout",
     "output_type": "stream",
     "text": [
      "X Train Shape:  (510, 100, 5)    Y Train Shape:  (510,)\n",
      "X Val Shape:  (53, 100, 5)    Y Val Shape:  (53,)\n",
      "X Test Shape:  (155, 100, 5)    Y Test Shape:  (155,)\n"
     ]
    }
   ],
   "source": [
    "X_train, Y_train = build_timeseries(X_train, Y_train, timestep)\n",
    "X_test, Y_test = build_timeseries(X_test, Y_test, timestep)\n",
    "X_val, Y_val = build_timeseries(X_val, Y_val, timestep)\n",
    "print(\"X Train Shape: \", X_train.shape, \"   Y Train Shape: \", Y_train.shape)\n",
    "print(\"X Val Shape: \", X_val.shape, \"   Y Val Shape: \", Y_val.shape)\n",
    "print(\"X Test Shape: \", X_test.shape, \"   Y Test Shape: \", Y_test.shape)"
   ]
  },
  {
   "cell_type": "code",
   "execution_count": 10,
   "metadata": {},
   "outputs": [
    {
     "data": {
      "text/plain": [
       "(510, 100, 5)"
      ]
     },
     "metadata": {},
     "output_type": "display_data"
    },
    {
     "data": {
      "text/plain": [
       "(53, 100, 5)"
      ]
     },
     "metadata": {},
     "output_type": "display_data"
    },
    {
     "data": {
      "text/plain": [
       "(155, 100, 5)"
      ]
     },
     "metadata": {},
     "output_type": "display_data"
    }
   ],
   "source": [
    "display(X_train.shape)\n",
    "display(X_val.shape)\n",
    "display(X_test.shape)"
   ]
  },
  {
   "cell_type": "code",
   "execution_count": 11,
   "metadata": {},
   "outputs": [],
   "source": [
    "def model_builder(hp):\n",
    "    lstm_model = Sequential()\n",
    "    \n",
    "    lstm_units_0 = hp.Int('units_lstm_0', min_value=16, max_value=256, step=16)\n",
    "    lstm_units_1 = hp.Int('units_lstm_1', min_value=16, max_value=256, step=16)\n",
    "    lstm_units_2 = hp.Int('units_lstm_2', min_value=16, max_value=256, step=16)\n",
    "    dense_units_0 = hp.Int('units_dense_0', min_value=16, max_value=128, step=16)\n",
    "    dense_units_1 = hp.Int('units_dense_1', min_value=16, max_value=128, step=16)\n",
    "    dense_units_2 = hp.Int('units_dense_2', min_value=16, max_value=128, step=16)\n",
    "    lstm_model.add(Input(shape=(X_train.shape[1], X_train.shape[2])))\n",
    "    lstm_model.add(LSTM(units=lstm_units_0, return_sequences=True))\n",
    "    lstm_model.add(LSTM(units=lstm_units_1, return_sequences=True))\n",
    "    lstm_model.add(LSTM(units=lstm_units_2, return_sequences=True))\n",
    "    lstm_model.add(GlobalAveragePooling1D())\n",
    "    lstm_model.add(Dense(units=dense_units_0,activation='relu'))\n",
    "    lstm_model.add(Dense(units=dense_units_1,activation='relu'))\n",
    "    lstm_model.add(Dropout(0.05))\n",
    "    lstm_model.add(Dense(units=dense_units_2, activation='linear'))\n",
    "    lstm_model.add(Dense(units=1))\n",
    "    lstm_model.summary()\n",
    "    \n",
    "    hyperparameters_learning_rate = hp.Choice('learning_rate', values=[0.01, 0.05, 0.1])\n",
    "    \n",
    "    lstm_model.compile(loss='mean_squared_error', optimizer=keras.optimizers.Adam(learning_rate=hyperparameters_learning_rate))\n",
    "    \n",
    "    return lstm_model"
   ]
  },
  {
   "cell_type": "code",
   "execution_count": 12,
   "metadata": {},
   "outputs": [
    {
     "name": "stdout",
     "output_type": "stream",
     "text": [
      "Trial 50 Complete [00h 00m 28s]\n",
      "val_loss: 0.0035389133263379335\n",
      "\n",
      "Best val_loss So Far: 0.0016278636176139116\n",
      "Total elapsed time: 00h 23m 27s\n",
      "Model: \"sequential\"\n",
      "_________________________________________________________________\n",
      " Layer (type)                Output Shape              Param #   \n",
      "=================================================================\n",
      " lstm (LSTM)                 (None, 100, 128)          68608     \n",
      "                                                                 \n",
      " lstm_1 (LSTM)               (None, 100, 160)          184960    \n",
      "                                                                 \n",
      " lstm_2 (LSTM)               (None, 100, 128)          147968    \n",
      "                                                                 \n",
      " global_average_pooling1d (G  (None, 128)              0         \n",
      " lobalAveragePooling1D)                                          \n",
      "                                                                 \n",
      " dense (Dense)               (None, 80)                10320     \n",
      "                                                                 \n",
      " dense_1 (Dense)             (None, 64)                5184      \n",
      "                                                                 \n",
      " dropout (Dropout)           (None, 64)                0         \n",
      "                                                                 \n",
      " dense_2 (Dense)             (None, 32)                2080      \n",
      "                                                                 \n",
      " dense_3 (Dense)             (None, 1)                 33        \n",
      "                                                                 \n",
      "=================================================================\n",
      "Total params: 419,153\n",
      "Trainable params: 419,153\n",
      "Non-trainable params: 0\n",
      "_________________________________________________________________\n",
      "Model: \"sequential\"\n",
      "_________________________________________________________________\n",
      " Layer (type)                Output Shape              Param #   \n",
      "=================================================================\n",
      " lstm (LSTM)                 (None, 100, 128)          68608     \n",
      "                                                                 \n",
      " lstm_1 (LSTM)               (None, 100, 160)          184960    \n",
      "                                                                 \n",
      " lstm_2 (LSTM)               (None, 100, 128)          147968    \n",
      "                                                                 \n",
      " global_average_pooling1d (G  (None, 128)              0         \n",
      " lobalAveragePooling1D)                                          \n",
      "                                                                 \n",
      " dense (Dense)               (None, 80)                10320     \n",
      "                                                                 \n",
      " dense_1 (Dense)             (None, 64)                5184      \n",
      "                                                                 \n",
      " dropout (Dropout)           (None, 64)                0         \n",
      "                                                                 \n",
      " dense_2 (Dense)             (None, 32)                2080      \n",
      "                                                                 \n",
      " dense_3 (Dense)             (None, 1)                 33        \n",
      "                                                                 \n",
      "=================================================================\n",
      "Total params: 419,153\n",
      "Trainable params: 419,153\n",
      "Non-trainable params: 0\n",
      "_________________________________________________________________\n",
      "None\n"
     ]
    }
   ],
   "source": [
    "tuner = kt.BayesianOptimization(\n",
    "    model_builder,\n",
    "    objective='val_loss',\n",
    "    max_trials=50)\n",
    "tuner.search(X_train, Y_train, epochs=50, validation_data=(X_val,Y_val))\n",
    "lstm_model  = tuner.get_best_models()[0]  \n",
    "print(lstm_model.summary())\n",
    "callback = tf.keras.callbacks.EarlyStopping(monitor='val_loss', patience=10)"
   ]
  },
  {
   "cell_type": "code",
   "execution_count": 13,
   "metadata": {},
   "outputs": [],
   "source": [
    "lstm_model.save(\"AAPL_LSTM.keras\")"
   ]
  },
  {
   "cell_type": "code",
   "execution_count": 14,
   "metadata": {},
   "outputs": [
    {
     "name": "stdout",
     "output_type": "stream",
     "text": [
      "Model: \"sequential\"\n",
      "_________________________________________________________________\n",
      " Layer (type)                Output Shape              Param #   \n",
      "=================================================================\n",
      " lstm (LSTM)                 (None, 100, 128)          68608     \n",
      "                                                                 \n",
      " lstm_1 (LSTM)               (None, 100, 160)          184960    \n",
      "                                                                 \n",
      " lstm_2 (LSTM)               (None, 100, 128)          147968    \n",
      "                                                                 \n",
      " global_average_pooling1d (G  (None, 128)              0         \n",
      " lobalAveragePooling1D)                                          \n",
      "                                                                 \n",
      " dense (Dense)               (None, 80)                10320     \n",
      "                                                                 \n",
      " dense_1 (Dense)             (None, 64)                5184      \n",
      "                                                                 \n",
      " dropout (Dropout)           (None, 64)                0         \n",
      "                                                                 \n",
      " dense_2 (Dense)             (None, 32)                2080      \n",
      "                                                                 \n",
      " dense_3 (Dense)             (None, 1)                 33        \n",
      "                                                                 \n",
      "=================================================================\n",
      "Total params: 419,153\n",
      "Trainable params: 419,153\n",
      "Non-trainable params: 0\n",
      "_________________________________________________________________\n"
     ]
    }
   ],
   "source": [
    "lstm_model.summary()"
   ]
  },
  {
   "cell_type": "code",
   "execution_count": 15,
   "metadata": {},
   "outputs": [
    {
     "name": "stdout",
     "output_type": "stream",
     "text": [
      "Epoch 1/50\n",
      "8/8 [==============================] - 4s 140ms/step - loss: 0.0283 - val_loss: 0.0026\n",
      "Epoch 2/50\n",
      "8/8 [==============================] - 0s 32ms/step - loss: 0.0279 - val_loss: 0.0034\n",
      "Epoch 3/50\n",
      "8/8 [==============================] - 0s 34ms/step - loss: 0.0276 - val_loss: 0.0033\n",
      "Epoch 4/50\n",
      "8/8 [==============================] - 0s 34ms/step - loss: 0.0272 - val_loss: 0.0025\n",
      "Epoch 5/50\n",
      "8/8 [==============================] - 0s 35ms/step - loss: 0.0267 - val_loss: 0.0021\n",
      "Epoch 6/50\n",
      "8/8 [==============================] - 0s 35ms/step - loss: 0.0230 - val_loss: 0.0053\n",
      "Epoch 7/50\n",
      "8/8 [==============================] - 0s 34ms/step - loss: 0.0234 - val_loss: 0.0111\n",
      "Epoch 8/50\n",
      "8/8 [==============================] - 0s 34ms/step - loss: 0.0235 - val_loss: 0.0090\n",
      "Epoch 9/50\n",
      "8/8 [==============================] - 0s 34ms/step - loss: 0.0201 - val_loss: 0.0095\n",
      "Epoch 10/50\n",
      "8/8 [==============================] - 0s 35ms/step - loss: 0.0186 - val_loss: 0.0130\n",
      "Epoch 11/50\n",
      "8/8 [==============================] - 0s 36ms/step - loss: 0.0210 - val_loss: 0.0090\n",
      "Epoch 12/50\n",
      "8/8 [==============================] - 0s 35ms/step - loss: 0.0156 - val_loss: 0.0186\n",
      "Epoch 13/50\n",
      "8/8 [==============================] - 0s 35ms/step - loss: 0.0176 - val_loss: 0.0120\n",
      "Epoch 14/50\n",
      "8/8 [==============================] - 0s 35ms/step - loss: 0.0170 - val_loss: 0.0083\n",
      "Epoch 15/50\n",
      "8/8 [==============================] - 0s 35ms/step - loss: 0.0115 - val_loss: 0.0256\n",
      "Epoch 16/50\n",
      "8/8 [==============================] - 0s 35ms/step - loss: 0.0109 - val_loss: 0.0098\n",
      "Epoch 17/50\n",
      "8/8 [==============================] - 0s 35ms/step - loss: 0.0150 - val_loss: 0.0606\n",
      "Epoch 18/50\n",
      "8/8 [==============================] - 0s 35ms/step - loss: 0.0353 - val_loss: 0.0041\n",
      "Epoch 19/50\n",
      "8/8 [==============================] - 0s 35ms/step - loss: 0.0281 - val_loss: 0.0058\n",
      "Epoch 20/50\n",
      "8/8 [==============================] - 0s 33ms/step - loss: 0.0274 - val_loss: 0.0060\n",
      "Epoch 21/50\n",
      "8/8 [==============================] - 0s 34ms/step - loss: 0.0235 - val_loss: 0.0060\n",
      "Epoch 22/50\n",
      "8/8 [==============================] - 0s 36ms/step - loss: 0.0278 - val_loss: 0.0074\n",
      "Epoch 23/50\n",
      "8/8 [==============================] - 0s 34ms/step - loss: 0.0297 - val_loss: 0.0036\n",
      "Epoch 24/50\n",
      "8/8 [==============================] - 0s 35ms/step - loss: 0.0280 - val_loss: 0.0063\n",
      "Epoch 25/50\n",
      "8/8 [==============================] - 0s 36ms/step - loss: 0.0284 - val_loss: 0.0068\n",
      "Epoch 26/50\n",
      "8/8 [==============================] - 0s 38ms/step - loss: 0.0285 - val_loss: 0.0043\n",
      "Epoch 27/50\n",
      "8/8 [==============================] - 0s 34ms/step - loss: 0.0298 - val_loss: 0.0046\n",
      "Epoch 28/50\n",
      "8/8 [==============================] - 0s 35ms/step - loss: 0.0273 - val_loss: 0.0044\n",
      "Epoch 29/50\n",
      "8/8 [==============================] - 0s 33ms/step - loss: 0.0268 - val_loss: 0.0053\n",
      "Epoch 30/50\n",
      "8/8 [==============================] - 0s 34ms/step - loss: 0.0254 - val_loss: 0.0047\n",
      "Epoch 31/50\n",
      "8/8 [==============================] - 0s 33ms/step - loss: 0.0230 - val_loss: 0.0062\n",
      "Epoch 32/50\n",
      "8/8 [==============================] - 0s 32ms/step - loss: 0.0181 - val_loss: 0.0137\n",
      "Epoch 33/50\n",
      "8/8 [==============================] - 0s 35ms/step - loss: 0.0168 - val_loss: 0.0243\n",
      "Epoch 34/50\n",
      "8/8 [==============================] - 0s 34ms/step - loss: 0.0162 - val_loss: 0.0118\n",
      "Epoch 35/50\n",
      "8/8 [==============================] - 0s 38ms/step - loss: 0.0159 - val_loss: 0.0290\n",
      "Epoch 36/50\n",
      "8/8 [==============================] - 0s 33ms/step - loss: 0.0132 - val_loss: 0.0208\n",
      "Epoch 37/50\n",
      "8/8 [==============================] - 0s 35ms/step - loss: 0.0113 - val_loss: 0.0142\n",
      "Epoch 38/50\n",
      "8/8 [==============================] - 0s 34ms/step - loss: 0.0095 - val_loss: 0.0217\n",
      "Epoch 39/50\n",
      "8/8 [==============================] - 0s 33ms/step - loss: 0.0096 - val_loss: 0.0227\n",
      "Epoch 40/50\n",
      "8/8 [==============================] - 0s 35ms/step - loss: 0.0098 - val_loss: 0.0264\n",
      "Epoch 41/50\n",
      "8/8 [==============================] - 0s 34ms/step - loss: 0.0092 - val_loss: 0.0239\n",
      "Epoch 42/50\n",
      "8/8 [==============================] - 0s 35ms/step - loss: 0.0097 - val_loss: 0.0195\n",
      "Epoch 43/50\n",
      "8/8 [==============================] - 0s 35ms/step - loss: 0.0089 - val_loss: 0.0211\n",
      "Epoch 44/50\n",
      "8/8 [==============================] - 0s 34ms/step - loss: 0.0088 - val_loss: 0.0299\n",
      "Epoch 45/50\n",
      "8/8 [==============================] - 0s 35ms/step - loss: 0.0095 - val_loss: 0.0178\n",
      "Epoch 46/50\n",
      "8/8 [==============================] - 0s 34ms/step - loss: 0.0084 - val_loss: 0.0242\n",
      "Epoch 47/50\n",
      "8/8 [==============================] - 0s 34ms/step - loss: 0.0083 - val_loss: 0.0230\n",
      "Epoch 48/50\n",
      "8/8 [==============================] - 0s 34ms/step - loss: 0.0085 - val_loss: 0.0223\n",
      "Epoch 49/50\n",
      "8/8 [==============================] - 0s 34ms/step - loss: 0.0094 - val_loss: 0.0221\n",
      "Epoch 50/50\n",
      "8/8 [==============================] - 0s 33ms/step - loss: 0.0105 - val_loss: 0.0226\n"
     ]
    },
    {
     "data": {
      "text/plain": [
       "<keras.callbacks.History at 0x1cc25938640>"
      ]
     },
     "execution_count": 15,
     "metadata": {},
     "output_type": "execute_result"
    }
   ],
   "source": [
    "lstm_model.fit(X_train,Y_train,validation_data = (X_val,Y_val),epochs = 50,batch_size = 64,verbose = 1)"
   ]
  },
  {
   "cell_type": "code",
   "execution_count": 16,
   "metadata": {},
   "outputs": [
    {
     "name": "stdout",
     "output_type": "stream",
     "text": [
      "16/16 [==============================] - 1s 11ms/step\n",
      "2/2 [==============================] - 0s 12ms/step\n",
      "5/5 [==============================] - 0s 11ms/step\n"
     ]
    }
   ],
   "source": [
    "train_predict = lstm_model.predict(X_train)\n",
    "val_predict = lstm_model.predict(X_val)\n",
    "test_predict = lstm_model.predict(X_test)\n",
    "train_predictraw = Yscaler.inverse_transform(train_predict).reshape((train_predict.shape[0],))\n",
    "val_predictraw = Yscaler.inverse_transform(val_predict).reshape((val_predict.shape[0],))\n",
    "test_predictraw = Yscaler.inverse_transform(test_predict).reshape((test_predict.shape[0],))"
   ]
  },
  {
   "cell_type": "code",
   "execution_count": 17,
   "metadata": {},
   "outputs": [
    {
     "name": "stdout",
     "output_type": "stream",
     "text": [
      "(155,)\n",
      "(155,)\n"
     ]
    }
   ],
   "source": [
    "print(Y_test.shape)\n",
    "print(test_predictraw.shape)"
   ]
  },
  {
   "cell_type": "code",
   "execution_count": 18,
   "metadata": {},
   "outputs": [
    {
     "name": "stdout",
     "output_type": "stream",
     "text": [
      "0.00017557358689382121\n",
      "0.0028348011798837443\n",
      "0.0010749951780593201\n"
     ]
    }
   ],
   "source": [
    "print(math.sqrt(mean_squared_error(Y_train,train_predict)) / Y_train.shape[0])\n",
    "print(math.sqrt(mean_squared_error(Y_val,val_predict)) / Y_val.shape[0])\n",
    "print(math.sqrt(mean_squared_error(Y_test,test_predict)) / Y_test.shape[0])"
   ]
  },
  {
   "cell_type": "code",
   "execution_count": 19,
   "metadata": {},
   "outputs": [
    {
     "data": {
      "text/plain": [
       "0        75.087502\n",
       "1        74.357498\n",
       "2        74.949997\n",
       "3        74.597504\n",
       "4        75.797501\n",
       "           ...    \n",
       "1013    185.589996\n",
       "1014    185.919998\n",
       "1015    183.630005\n",
       "1016    182.679993\n",
       "1017    188.630005\n",
       "Name: Close, Length: 1018, dtype: float64"
      ]
     },
     "metadata": {},
     "output_type": "display_data"
    },
    {
     "data": {
      "text/html": [
       "<div>\n",
       "<style scoped>\n",
       "    .dataframe tbody tr th:only-of-type {\n",
       "        vertical-align: middle;\n",
       "    }\n",
       "\n",
       "    .dataframe tbody tr th {\n",
       "        vertical-align: top;\n",
       "    }\n",
       "\n",
       "    .dataframe thead th {\n",
       "        text-align: right;\n",
       "    }\n",
       "</style>\n",
       "<table border=\"1\" class=\"dataframe\">\n",
       "  <thead>\n",
       "    <tr style=\"text-align: right;\">\n",
       "      <th></th>\n",
       "      <th>0</th>\n",
       "    </tr>\n",
       "  </thead>\n",
       "  <tbody>\n",
       "    <tr>\n",
       "      <th>0</th>\n",
       "      <td>151.806000</td>\n",
       "    </tr>\n",
       "    <tr>\n",
       "      <th>1</th>\n",
       "      <td>153.071884</td>\n",
       "    </tr>\n",
       "    <tr>\n",
       "      <th>2</th>\n",
       "      <td>151.937180</td>\n",
       "    </tr>\n",
       "    <tr>\n",
       "      <th>3</th>\n",
       "      <td>154.327148</td>\n",
       "    </tr>\n",
       "    <tr>\n",
       "      <th>4</th>\n",
       "      <td>156.608292</td>\n",
       "    </tr>\n",
       "    <tr>\n",
       "      <th>...</th>\n",
       "      <td>...</td>\n",
       "    </tr>\n",
       "    <tr>\n",
       "      <th>150</th>\n",
       "      <td>163.725113</td>\n",
       "    </tr>\n",
       "    <tr>\n",
       "      <th>151</th>\n",
       "      <td>164.153763</td>\n",
       "    </tr>\n",
       "    <tr>\n",
       "      <th>152</th>\n",
       "      <td>163.985855</td>\n",
       "    </tr>\n",
       "    <tr>\n",
       "      <th>153</th>\n",
       "      <td>163.840820</td>\n",
       "    </tr>\n",
       "    <tr>\n",
       "      <th>154</th>\n",
       "      <td>163.965652</td>\n",
       "    </tr>\n",
       "  </tbody>\n",
       "</table>\n",
       "<p>155 rows × 1 columns</p>\n",
       "</div>"
      ],
      "text/plain": [
       "              0\n",
       "0    151.806000\n",
       "1    153.071884\n",
       "2    151.937180\n",
       "3    154.327148\n",
       "4    156.608292\n",
       "..          ...\n",
       "150  163.725113\n",
       "151  164.153763\n",
       "152  163.985855\n",
       "153  163.840820\n",
       "154  163.965652\n",
       "\n",
       "[155 rows x 1 columns]"
      ]
     },
     "metadata": {},
     "output_type": "display_data"
    }
   ],
   "source": [
    "display(dataclose)\n",
    "display(pd.DataFrame(test_predictraw))"
   ]
  },
  {
   "cell_type": "code",
   "execution_count": 20,
   "metadata": {},
   "outputs": [
    {
     "data": {
      "image/png": "[encoded data removed]",
      "text/plain": [
       "<Figure size 640x480 with 1 Axes>"
      ]
     },
     "metadata": {},
     "output_type": "display_data"
    }
   ],
   "source": [
    "plt.plot(dataclose)\n",
    "\n",
    "trainPredictPlot = np.empty_like(dataclose)\n",
    "trainPredictPlot.fill(np.nan)\n",
    "trainPredictPlot[timestep:len(train_predictraw)+timestep:] = train_predictraw\n",
    "plt.plot(trainPredictPlot)\n",
    "\n",
    "valPredictPlot = np.empty_like(dataclose)\n",
    "valPredictPlot.fill(np.nan)\n",
    "valPredictPlot[len(train_predictraw)+timestep*2:len(train_predictraw)+timestep*2+len(val_predictraw):] = val_predictraw\n",
    "plt.plot(valPredictPlot)\n",
    "\n",
    "testPredictPlot = np.empty_like(dataclose)\n",
    "testPredictPlot.fill(np.nan)\n",
    "testPredictPlot[len(train_predictraw)+timestep*3+len(val_predictraw):len(train_predictraw)+timestep*3+len(val_predictraw)+len(test_predictraw):] = test_predictraw\n",
    "plt.plot(testPredictPlot)\n",
    "\n",
    "plt.show()"
   ]
  },
  {
   "cell_type": "code",
   "execution_count": null,
   "metadata": {},
   "outputs": [],
   "source": []
  }
 ],
 "metadata": {
  "kernelspec": {
   "display_name": "MachineLearningEnv",
   "language": "python",
   "name": "python3"
  },
  "language_info": {
   "codemirror_mode": {
    "name": "ipython",
    "version": 3
   },
   "file_extension": ".py",
   "mimetype": "text/x-python",
   "name": "python",
   "nbconvert_exporter": "python",
   "pygments_lexer": "ipython3",
   "version": "3.10.13"
  }
 },
 "nbformat": 4,
 "nbformat_minor": 2
}
