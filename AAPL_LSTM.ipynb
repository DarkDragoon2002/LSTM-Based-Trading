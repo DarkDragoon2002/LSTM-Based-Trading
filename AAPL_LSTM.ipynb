{
 "cells": [
  {
   "cell_type": "code",
   "execution_count": 2,
   "metadata": {},
   "outputs": [],
   "source": [
    "import pandas as pd\n",
    "import tensorflow as tf\n",
    "import yfinance as yf\n",
    "import numpy as np\n",
    "import keras\n",
    "import tensorflow as tf\n",
    "from sklearn.model_selection import train_test_split\n",
    "from sklearn.metrics import mean_squared_error\n",
    "from sklearn.preprocessing import MinMaxScaler\n",
    "from keras.models import Model\n",
    "from keras.models import Sequential\n",
    "from keras.layers import Dense, Dropout, LSTM, Input,GlobalAveragePooling1D\n",
    "from keras import optimizers\n",
    "import matplotlib.pyplot as plt\n",
    "import keras_tuner as kt\n",
    "from datetime import datetime, timedelta\n",
    "import math"
   ]
  },
  {
   "cell_type": "code",
   "execution_count": 3,
   "metadata": {},
   "outputs": [
    {
     "name": "stdout",
     "output_type": "stream",
     "text": [
      "[name: \"/device:CPU:0\"\n",
      "device_type: \"CPU\"\n",
      "memory_limit: 268435456\n",
      "locality {\n",
      "}\n",
      "incarnation: 16255004444577833389\n",
      "xla_global_id: -1\n",
      ", name: \"/device:GPU:0\"\n",
      "device_type: \"GPU\"\n",
      "memory_limit: 5729419264\n",
      "locality {\n",
      "  bus_id: 1\n",
      "  links {\n",
      "  }\n",
      "}\n",
      "incarnation: 3916922587709835917\n",
      "physical_device_desc: \"device: 0, name: NVIDIA GeForce RTX 4060 Laptop GPU, pci bus id: 0000:01:00.0, compute capability: 8.9\"\n",
      "xla_global_id: 416903419\n",
      "]\n",
      "INFO:tensorflow:Mixed precision compatibility check (mixed_float16): OK\n",
      "Your GPU will likely run quickly with dtype policy mixed_float16 as it has compute capability of at least 7.0. Your GPU: NVIDIA GeForce RTX 4060 Laptop GPU, compute capability 8.9\n"
     ]
    }
   ],
   "source": [
    "from tensorflow.python.client import device_lib\n",
    "print(device_lib.list_local_devices())\n",
    "policy = keras.mixed_precision.Policy('mixed_float16')\n",
    "keras.mixed_precision.set_global_policy(policy)"
   ]
  },
  {
   "cell_type": "code",
   "execution_count": 4,
   "metadata": {},
   "outputs": [],
   "source": [
    "timestep = 100\n",
    "testfrac = 0.25\n",
    "valfrac = 0.2"
   ]
  },
  {
   "cell_type": "code",
   "execution_count": 5,
   "metadata": {},
   "outputs": [
    {
     "data": {
      "text/plain": [
       "'2024-01-19'"
      ]
     },
     "metadata": {},
     "output_type": "display_data"
    },
    {
     "name": "stderr",
     "output_type": "stream",
     "text": [
      "[*********************100%%**********************]  1 of 1 completed\n"
     ]
    }
   ],
   "source": [
    "start_date = '2010-01-01'\n",
    "today = datetime.now()\n",
    "end_date = datetime.strftime(today, '%Y-%m-%d')\n",
    "display(end_date)\n",
    "data = yf.download(\"AAPL\", start=start_date, end=end_date) #Displays till yesterday as today is not complete\n",
    "data = data.reset_index()\n",
    "dataclose = data['Adj Close']"
   ]
  },
  {
   "cell_type": "code",
   "execution_count": 6,
   "metadata": {},
   "outputs": [
    {
     "data": {
      "text/html": [
       "<div>\n",
       "<style scoped>\n",
       "    .dataframe tbody tr th:only-of-type {\n",
       "        vertical-align: middle;\n",
       "    }\n",
       "\n",
       "    .dataframe tbody tr th {\n",
       "        vertical-align: top;\n",
       "    }\n",
       "\n",
       "    .dataframe thead th {\n",
       "        text-align: right;\n",
       "    }\n",
       "</style>\n",
       "<table border=\"1\" class=\"dataframe\">\n",
       "  <thead>\n",
       "    <tr style=\"text-align: right;\">\n",
       "      <th></th>\n",
       "      <th>Open</th>\n",
       "      <th>High</th>\n",
       "      <th>Low</th>\n",
       "      <th>Adj Close</th>\n",
       "      <th>Volume</th>\n",
       "    </tr>\n",
       "  </thead>\n",
       "  <tbody>\n",
       "    <tr>\n",
       "      <th>0</th>\n",
       "      <td>7.622500</td>\n",
       "      <td>7.660714</td>\n",
       "      <td>7.585000</td>\n",
       "      <td>6.478997</td>\n",
       "      <td>493729600</td>\n",
       "    </tr>\n",
       "    <tr>\n",
       "      <th>1</th>\n",
       "      <td>7.664286</td>\n",
       "      <td>7.699643</td>\n",
       "      <td>7.616071</td>\n",
       "      <td>6.490199</td>\n",
       "      <td>601904800</td>\n",
       "    </tr>\n",
       "    <tr>\n",
       "      <th>2</th>\n",
       "      <td>7.656429</td>\n",
       "      <td>7.686786</td>\n",
       "      <td>7.526786</td>\n",
       "      <td>6.386964</td>\n",
       "      <td>552160000</td>\n",
       "    </tr>\n",
       "    <tr>\n",
       "      <th>3</th>\n",
       "      <td>7.562500</td>\n",
       "      <td>7.571429</td>\n",
       "      <td>7.466071</td>\n",
       "      <td>6.375158</td>\n",
       "      <td>477131200</td>\n",
       "    </tr>\n",
       "    <tr>\n",
       "      <th>4</th>\n",
       "      <td>7.510714</td>\n",
       "      <td>7.571429</td>\n",
       "      <td>7.466429</td>\n",
       "      <td>6.417540</td>\n",
       "      <td>447610800</td>\n",
       "    </tr>\n",
       "    <tr>\n",
       "      <th>...</th>\n",
       "      <td>...</td>\n",
       "      <td>...</td>\n",
       "      <td>...</td>\n",
       "      <td>...</td>\n",
       "      <td>...</td>\n",
       "    </tr>\n",
       "    <tr>\n",
       "      <th>3529</th>\n",
       "      <td>186.539993</td>\n",
       "      <td>187.050003</td>\n",
       "      <td>183.619995</td>\n",
       "      <td>185.589996</td>\n",
       "      <td>49128400</td>\n",
       "    </tr>\n",
       "    <tr>\n",
       "      <th>3530</th>\n",
       "      <td>186.059998</td>\n",
       "      <td>186.740005</td>\n",
       "      <td>185.190002</td>\n",
       "      <td>185.919998</td>\n",
       "      <td>40444700</td>\n",
       "    </tr>\n",
       "    <tr>\n",
       "      <th>3531</th>\n",
       "      <td>182.160004</td>\n",
       "      <td>184.259995</td>\n",
       "      <td>180.929993</td>\n",
       "      <td>183.630005</td>\n",
       "      <td>65603000</td>\n",
       "    </tr>\n",
       "    <tr>\n",
       "      <th>3532</th>\n",
       "      <td>181.270004</td>\n",
       "      <td>182.929993</td>\n",
       "      <td>180.300003</td>\n",
       "      <td>182.679993</td>\n",
       "      <td>47317400</td>\n",
       "    </tr>\n",
       "    <tr>\n",
       "      <th>3533</th>\n",
       "      <td>186.089996</td>\n",
       "      <td>189.139999</td>\n",
       "      <td>185.830002</td>\n",
       "      <td>188.630005</td>\n",
       "      <td>77921000</td>\n",
       "    </tr>\n",
       "  </tbody>\n",
       "</table>\n",
       "<p>3534 rows × 5 columns</p>\n",
       "</div>"
      ],
      "text/plain": [
       "            Open        High         Low   Adj Close     Volume\n",
       "0       7.622500    7.660714    7.585000    6.478997  493729600\n",
       "1       7.664286    7.699643    7.616071    6.490199  601904800\n",
       "2       7.656429    7.686786    7.526786    6.386964  552160000\n",
       "3       7.562500    7.571429    7.466071    6.375158  477131200\n",
       "4       7.510714    7.571429    7.466429    6.417540  447610800\n",
       "...          ...         ...         ...         ...        ...\n",
       "3529  186.539993  187.050003  183.619995  185.589996   49128400\n",
       "3530  186.059998  186.740005  185.190002  185.919998   40444700\n",
       "3531  182.160004  184.259995  180.929993  183.630005   65603000\n",
       "3532  181.270004  182.929993  180.300003  182.679993   47317400\n",
       "3533  186.089996  189.139999  185.830002  188.630005   77921000\n",
       "\n",
       "[3534 rows x 5 columns]"
      ]
     },
     "metadata": {},
     "output_type": "display_data"
    },
    {
     "data": {
      "image/png": "[encoded data removed]",
      "text/plain": [
       "<Figure size 640x480 with 1 Axes>"
      ]
     },
     "metadata": {},
     "output_type": "display_data"
    }
   ],
   "source": [
    "data = data[['Open', 'High', 'Low', 'Adj Close', 'Volume']]\n",
    "display(data)\n",
    "plt.plot(dataclose)\n",
    "plt.show()"
   ]
  },
  {
   "cell_type": "code",
   "execution_count": 7,
   "metadata": {},
   "outputs": [
    {
     "data": {
      "text/plain": [
       "(3534, 5)"
      ]
     },
     "metadata": {},
     "output_type": "display_data"
    },
    {
     "data": {
      "text/plain": [
       "(3534,)"
      ]
     },
     "metadata": {},
     "output_type": "display_data"
    }
   ],
   "source": [
    "Xscaler = MinMaxScaler()\n",
    "Xdata = Xscaler.fit_transform(np.array(data))\n",
    "Yscaler = MinMaxScaler()\n",
    "Ydata = Yscaler.fit_transform(np.array([data['Adj Close']]).transpose()).reshape((Xdata.shape[0],))\n",
    "display(Xdata.shape)\n",
    "display(Ydata.shape)"
   ]
  },
  {
   "cell_type": "code",
   "execution_count": 8,
   "metadata": {},
   "outputs": [],
   "source": [
    "X_temp, X_test = train_test_split(Xdata, test_size=testfrac, shuffle=False)\n",
    "Y_temp, Y_test = train_test_split(Ydata, test_size=testfrac, shuffle=False)\n",
    "X_train, X_val = train_test_split(X_temp, test_size=valfrac, shuffle=False)\n",
    "Y_train, Y_val = train_test_split(Y_temp, test_size=valfrac, shuffle=False)\n"
   ]
  },
  {
   "cell_type": "code",
   "execution_count": 9,
   "metadata": {},
   "outputs": [],
   "source": [
    "def build_timeseries(Xdata, Ydata, time_step):\n",
    "    dim_0 = Xdata.shape[0] - time_step\n",
    "    dim_1 = Xdata.shape[1]\n",
    "\n",
    "    x = np.zeros((dim_0, time_step, dim_1))\n",
    "    y = np.zeros((Ydata.shape[0] - time_step,))\n",
    "\n",
    "    for i in range(dim_0):\n",
    "        x[i] = Xdata[i:time_step+i]\n",
    "        y[i] = Ydata[time_step+i]\n",
    "    return x, y"
   ]
  },
  {
   "cell_type": "code",
   "execution_count": 10,
   "metadata": {},
   "outputs": [
    {
     "name": "stdout",
     "output_type": "stream",
     "text": [
      "X Train Shape:  (2020, 100, 5)    Y Train Shape:  (2020,)\n",
      "X Val Shape:  (430, 100, 5)    Y Val Shape:  (430,)\n",
      "X Test Shape:  (784, 100, 5)    Y Test Shape:  (784,)\n"
     ]
    }
   ],
   "source": [
    "X_train, Y_train = build_timeseries(X_train, Y_train, timestep)\n",
    "X_test, Y_test = build_timeseries(X_test, Y_test, timestep)\n",
    "X_val, Y_val = build_timeseries(X_val, Y_val, timestep)\n",
    "print(\"X Train Shape: \", X_train.shape, \"   Y Train Shape: \", Y_train.shape)\n",
    "print(\"X Val Shape: \", X_val.shape, \"   Y Val Shape: \", Y_val.shape)\n",
    "print(\"X Test Shape: \", X_test.shape, \"   Y Test Shape: \", Y_test.shape)"
   ]
  },
  {
   "cell_type": "code",
   "execution_count": 11,
   "metadata": {},
   "outputs": [
    {
     "data": {
      "text/plain": [
       "(2020, 100, 5)"
      ]
     },
     "metadata": {},
     "output_type": "display_data"
    },
    {
     "data": {
      "text/plain": [
       "(430, 100, 5)"
      ]
     },
     "metadata": {},
     "output_type": "display_data"
    },
    {
     "data": {
      "text/plain": [
       "(784, 100, 5)"
      ]
     },
     "metadata": {},
     "output_type": "display_data"
    }
   ],
   "source": [
    "display(X_train.shape)\n",
    "display(X_val.shape)\n",
    "display(X_test.shape)"
   ]
  },
  {
   "cell_type": "code",
   "execution_count": 12,
   "metadata": {},
   "outputs": [],
   "source": [
    "def model_builder(hp):\n",
    "    lstm_model = Sequential()\n",
    "    \n",
    "    lstm_units_0 = hp.Int('units_lstm_0', min_value=128, max_value=256, step=16)\n",
    "    lstm_units_1 = hp.Int('units_lstm_1', min_value=16, max_value=256, step=16)\n",
    "    lstm_units_2 = hp.Int('units_lstm_2', min_value=16, max_value=256, step=16)\n",
    "    dense_units_0 = hp.Int('units_dense_0', min_value=16, max_value=128, step=16)\n",
    "    dense_units_1 = hp.Int('units_dense_1', min_value=16, max_value=128, step=16)\n",
    "    dense_units_2 = hp.Int('units_dense_2', min_value=16, max_value=128, step=16)\n",
    "    lstm_model.add(Input(shape=(X_train.shape[1], X_train.shape[2])))\n",
    "    lstm_model.add(LSTM(units=lstm_units_0, return_sequences=True))\n",
    "    lstm_model.add(LSTM(units=lstm_units_1, return_sequences=True))\n",
    "    lstm_model.add(LSTM(units=lstm_units_2, return_sequences=True))\n",
    "    lstm_model.add(GlobalAveragePooling1D())\n",
    "    lstm_model.add(Dense(units=dense_units_0,activation='relu'))\n",
    "    lstm_model.add(Dense(units=dense_units_1,activation='relu'))\n",
    "    lstm_model.add(Dropout(0.05))\n",
    "    lstm_model.add(Dense(units=dense_units_2, activation='linear'))\n",
    "    lstm_model.add(Dense(units=1))\n",
    "    lstm_model.summary()\n",
    "    \n",
    "    hyperparameters_learning_rate = hp.Choice('learning_rate', values=[0.01, 0.05, 0.1])\n",
    "    \n",
    "    lstm_model.compile(loss='mean_squared_error', optimizer=keras.optimizers.Adam(learning_rate=hyperparameters_learning_rate))\n",
    "    \n",
    "    return lstm_model"
   ]
  },
  {
   "cell_type": "code",
   "execution_count": 26,
   "metadata": {},
   "outputs": [
    {
     "name": "stdout",
     "output_type": "stream",
     "text": [
      "Reloading Tuner from .\\untitled_project\\tuner0.json\n",
      "Model: \"sequential\"\n",
      "_________________________________________________________________\n",
      " Layer (type)                Output Shape              Param #   \n",
      "=================================================================\n",
      " lstm (LSTM)                 (None, 100, 144)          86400     \n",
      "                                                                 \n",
      " lstm_1 (LSTM)               (None, 100, 144)          166464    \n",
      "                                                                 \n",
      " lstm_2 (LSTM)               (None, 100, 160)          195200    \n",
      "                                                                 \n",
      " global_average_pooling1d (G  (None, 160)              0         \n",
      " lobalAveragePooling1D)                                          \n",
      "                                                                 \n",
      " dense (Dense)               (None, 96)                15456     \n",
      "                                                                 \n",
      " dense_1 (Dense)             (None, 48)                4656      \n",
      "                                                                 \n",
      " dropout (Dropout)           (None, 48)                0         \n",
      "                                                                 \n",
      " dense_2 (Dense)             (None, 80)                3920      \n",
      "                                                                 \n",
      " dense_3 (Dense)             (None, 1)                 81        \n",
      "                                                                 \n",
      "=================================================================\n",
      "Total params: 472,177\n",
      "Trainable params: 472,177\n",
      "Non-trainable params: 0\n",
      "_________________________________________________________________\n",
      "Model: \"sequential\"\n",
      "_________________________________________________________________\n",
      " Layer (type)                Output Shape              Param #   \n",
      "=================================================================\n",
      " lstm (LSTM)                 (None, 100, 144)          86400     \n",
      "                                                                 \n",
      " lstm_1 (LSTM)               (None, 100, 144)          166464    \n",
      "                                                                 \n",
      " lstm_2 (LSTM)               (None, 100, 160)          195200    \n",
      "                                                                 \n",
      " global_average_pooling1d (G  (None, 160)              0         \n",
      " lobalAveragePooling1D)                                          \n",
      "                                                                 \n",
      " dense (Dense)               (None, 96)                15456     \n",
      "                                                                 \n",
      " dense_1 (Dense)             (None, 48)                4656      \n",
      "                                                                 \n",
      " dropout (Dropout)           (None, 48)                0         \n",
      "                                                                 \n",
      " dense_2 (Dense)             (None, 80)                3920      \n",
      "                                                                 \n",
      " dense_3 (Dense)             (None, 1)                 81        \n",
      "                                                                 \n",
      "=================================================================\n",
      "Total params: 472,177\n",
      "Trainable params: 472,177\n",
      "Non-trainable params: 0\n",
      "_________________________________________________________________\n",
      "None\n"
     ]
    }
   ],
   "source": [
    "tuner = kt.BayesianOptimization(\n",
    "    model_builder,\n",
    "    objective='val_loss',\n",
    "    max_trials=100)\n",
    "tuner.search(X_train, Y_train, epochs=100, validation_data=(X_val,Y_val))\n",
    "lstm_model  = tuner.get_best_models()[0]  \n",
    "print(lstm_model.summary())\n",
    "callback = tf.keras.callbacks.EarlyStopping(monitor='val_loss', patience=3)"
   ]
  },
  {
   "cell_type": "code",
   "execution_count": 27,
   "metadata": {},
   "outputs": [],
   "source": [
    "lstm_model.save(\"AAPL_LSTM.keras\")"
   ]
  },
  {
   "cell_type": "code",
   "execution_count": 28,
   "metadata": {},
   "outputs": [
    {
     "name": "stdout",
     "output_type": "stream",
     "text": [
      "Model: \"sequential\"\n",
      "_________________________________________________________________\n",
      " Layer (type)                Output Shape              Param #   \n",
      "=================================================================\n",
      " lstm (LSTM)                 (None, 100, 144)          86400     \n",
      "                                                                 \n",
      " lstm_1 (LSTM)               (None, 100, 144)          166464    \n",
      "                                                                 \n",
      " lstm_2 (LSTM)               (None, 100, 160)          195200    \n",
      "                                                                 \n",
      " global_average_pooling1d (G  (None, 160)              0         \n",
      " lobalAveragePooling1D)                                          \n",
      "                                                                 \n",
      " dense (Dense)               (None, 96)                15456     \n",
      "                                                                 \n",
      " dense_1 (Dense)             (None, 48)                4656      \n",
      "                                                                 \n",
      " dropout (Dropout)           (None, 48)                0         \n",
      "                                                                 \n",
      " dense_2 (Dense)             (None, 80)                3920      \n",
      "                                                                 \n",
      " dense_3 (Dense)             (None, 1)                 81        \n",
      "                                                                 \n",
      "=================================================================\n",
      "Total params: 472,177\n",
      "Trainable params: 472,177\n",
      "Non-trainable params: 0\n",
      "_________________________________________________________________\n"
     ]
    }
   ],
   "source": [
    "lstm_model.summary()"
   ]
  },
  {
   "cell_type": "code",
   "execution_count": 29,
   "metadata": {},
   "outputs": [
    {
     "name": "stdout",
     "output_type": "stream",
     "text": [
      "Epoch 1/100\n",
      "32/32 [==============================] - 5s 54ms/step - loss: 1.2713e-04 - val_loss: 0.0028\n",
      "Epoch 2/100\n",
      "32/32 [==============================] - 1s 28ms/step - loss: 9.4303e-05 - val_loss: 0.0013\n",
      "Epoch 3/100\n",
      "32/32 [==============================] - 1s 28ms/step - loss: 7.9997e-05 - val_loss: 0.0014\n",
      "Epoch 4/100\n",
      "32/32 [==============================] - 1s 31ms/step - loss: 8.0079e-05 - val_loss: 0.0021\n",
      "Epoch 5/100\n",
      "32/32 [==============================] - 1s 32ms/step - loss: 6.9718e-05 - val_loss: 0.0013\n",
      "Epoch 6/100\n",
      "32/32 [==============================] - 1s 29ms/step - loss: 7.2469e-05 - val_loss: 0.0496\n",
      "Epoch 7/100\n",
      "32/32 [==============================] - 1s 30ms/step - loss: 6.9781e-05 - val_loss: 0.0017\n",
      "Epoch 8/100\n",
      "32/32 [==============================] - 1s 32ms/step - loss: 7.8760e-05 - val_loss: 0.0012\n",
      "Epoch 9/100\n",
      "32/32 [==============================] - 1s 33ms/step - loss: 8.9715e-05 - val_loss: 0.0015\n",
      "Epoch 10/100\n",
      "32/32 [==============================] - 1s 32ms/step - loss: 7.3075e-05 - val_loss: 0.0013\n",
      "Epoch 11/100\n",
      "32/32 [==============================] - 1s 30ms/step - loss: 5.5030e-05 - val_loss: 0.0016\n",
      "Epoch 12/100\n",
      "32/32 [==============================] - 1s 29ms/step - loss: 6.1368e-05 - val_loss: 0.0012\n",
      "Epoch 13/100\n",
      "32/32 [==============================] - 1s 31ms/step - loss: 5.6577e-05 - val_loss: 0.0014\n",
      "Epoch 14/100\n",
      "32/32 [==============================] - 1s 30ms/step - loss: 6.3303e-05 - val_loss: 0.0014\n",
      "Epoch 15/100\n",
      "32/32 [==============================] - 1s 29ms/step - loss: 7.4312e-05 - val_loss: 0.0023\n",
      "Epoch 16/100\n",
      "32/32 [==============================] - 1s 30ms/step - loss: 9.8722e-05 - val_loss: 0.0017\n",
      "Epoch 17/100\n",
      "32/32 [==============================] - 1s 32ms/step - loss: 6.3757e-05 - val_loss: 0.0017\n",
      "Epoch 18/100\n",
      "32/32 [==============================] - 1s 29ms/step - loss: 5.6729e-05 - val_loss: 0.0020\n",
      "Epoch 19/100\n",
      "32/32 [==============================] - 1s 28ms/step - loss: 6.3713e-05 - val_loss: 0.0018\n",
      "Epoch 20/100\n",
      "32/32 [==============================] - 1s 30ms/step - loss: 9.1424e-05 - val_loss: 0.0042\n",
      "Epoch 21/100\n",
      "32/32 [==============================] - 1s 29ms/step - loss: 8.2202e-05 - val_loss: 0.0017\n",
      "Epoch 22/100\n",
      "32/32 [==============================] - 1s 29ms/step - loss: 6.8808e-05 - val_loss: 0.0013\n",
      "Epoch 23/100\n",
      "32/32 [==============================] - 1s 31ms/step - loss: 6.5327e-05 - val_loss: 0.0031\n",
      "Epoch 24/100\n",
      "32/32 [==============================] - 1s 29ms/step - loss: 7.3979e-05 - val_loss: 0.0014\n",
      "Epoch 25/100\n",
      "32/32 [==============================] - 1s 28ms/step - loss: 6.2440e-05 - val_loss: 0.0015\n",
      "Epoch 26/100\n",
      "32/32 [==============================] - 1s 29ms/step - loss: 6.8823e-05 - val_loss: 0.0016\n",
      "Epoch 27/100\n",
      "32/32 [==============================] - 1s 31ms/step - loss: 8.0043e-05 - val_loss: 0.0025\n",
      "Epoch 28/100\n",
      "32/32 [==============================] - 1s 32ms/step - loss: 6.3219e-05 - val_loss: 0.0018\n",
      "Epoch 29/100\n",
      "32/32 [==============================] - 1s 28ms/step - loss: 5.6254e-05 - val_loss: 0.0017\n",
      "Epoch 30/100\n",
      "32/32 [==============================] - 1s 29ms/step - loss: 5.8881e-05 - val_loss: 0.0024\n",
      "Epoch 31/100\n",
      "32/32 [==============================] - 1s 30ms/step - loss: 6.4183e-05 - val_loss: 0.0018\n",
      "Epoch 32/100\n",
      "32/32 [==============================] - 1s 29ms/step - loss: 7.5917e-05 - val_loss: 0.0037\n",
      "Epoch 33/100\n",
      "32/32 [==============================] - 1s 31ms/step - loss: 1.0648e-04 - val_loss: 0.0030\n",
      "Epoch 34/100\n",
      "32/32 [==============================] - 1s 34ms/step - loss: 9.5144e-05 - val_loss: 0.0018\n",
      "Epoch 35/100\n",
      "32/32 [==============================] - 1s 35ms/step - loss: 6.1057e-05 - val_loss: 0.0022\n",
      "Epoch 36/100\n",
      "32/32 [==============================] - 1s 36ms/step - loss: 6.7175e-05 - val_loss: 0.0015\n",
      "Epoch 37/100\n",
      "32/32 [==============================] - 1s 32ms/step - loss: 6.1690e-05 - val_loss: 0.0019\n",
      "Epoch 38/100\n",
      "32/32 [==============================] - 1s 32ms/step - loss: 5.8661e-05 - val_loss: 0.0019\n",
      "Epoch 39/100\n",
      "32/32 [==============================] - 1s 29ms/step - loss: 5.3724e-05 - val_loss: 0.0017\n",
      "Epoch 40/100\n",
      "32/32 [==============================] - 1s 29ms/step - loss: 4.5590e-05 - val_loss: 0.0019\n",
      "Epoch 41/100\n",
      "32/32 [==============================] - 1s 30ms/step - loss: 7.0138e-05 - val_loss: 0.0019\n",
      "Epoch 42/100\n",
      "32/32 [==============================] - 1s 30ms/step - loss: 9.9677e-05 - val_loss: 0.0054\n",
      "Epoch 43/100\n",
      "32/32 [==============================] - 1s 30ms/step - loss: 1.9641e-04 - val_loss: 0.0015\n",
      "Epoch 44/100\n",
      "32/32 [==============================] - 1s 30ms/step - loss: 1.3771e-04 - val_loss: 0.0022\n",
      "Epoch 45/100\n",
      "32/32 [==============================] - 1s 29ms/step - loss: 7.8129e-05 - val_loss: 0.0026\n",
      "Epoch 46/100\n",
      "32/32 [==============================] - 1s 30ms/step - loss: 6.8940e-05 - val_loss: 0.0017\n",
      "Epoch 47/100\n",
      "32/32 [==============================] - 1s 29ms/step - loss: 6.8390e-05 - val_loss: 0.0015\n",
      "Epoch 48/100\n",
      "32/32 [==============================] - 1s 30ms/step - loss: 5.7472e-05 - val_loss: 0.0022\n",
      "Epoch 49/100\n",
      "32/32 [==============================] - 1s 29ms/step - loss: 4.9160e-05 - val_loss: 0.0018\n",
      "Epoch 50/100\n",
      "32/32 [==============================] - 1s 30ms/step - loss: 5.6684e-05 - val_loss: 0.0023\n",
      "Epoch 51/100\n",
      "32/32 [==============================] - 1s 29ms/step - loss: 6.4457e-05 - val_loss: 0.0056\n",
      "Epoch 52/100\n",
      "32/32 [==============================] - 1s 28ms/step - loss: 5.7362e-05 - val_loss: 0.0015\n",
      "Epoch 53/100\n",
      "32/32 [==============================] - 1s 29ms/step - loss: 5.3683e-05 - val_loss: 0.0016\n",
      "Epoch 54/100\n",
      "32/32 [==============================] - 1s 28ms/step - loss: 6.5756e-05 - val_loss: 0.0017\n",
      "Epoch 55/100\n",
      "32/32 [==============================] - 1s 29ms/step - loss: 6.9183e-05 - val_loss: 0.0026\n",
      "Epoch 56/100\n",
      "32/32 [==============================] - 1s 28ms/step - loss: 4.8246e-05 - val_loss: 0.0034\n",
      "Epoch 57/100\n",
      "32/32 [==============================] - 1s 28ms/step - loss: 6.2595e-05 - val_loss: 0.0027\n",
      "Epoch 58/100\n",
      "32/32 [==============================] - 1s 30ms/step - loss: 5.1075e-05 - val_loss: 0.0029\n",
      "Epoch 59/100\n",
      "32/32 [==============================] - 1s 29ms/step - loss: 5.3334e-05 - val_loss: 0.0021\n",
      "Epoch 60/100\n",
      "32/32 [==============================] - 1s 28ms/step - loss: 5.0271e-05 - val_loss: 0.0025\n",
      "Epoch 61/100\n",
      "32/32 [==============================] - 1s 31ms/step - loss: 4.6757e-05 - val_loss: 0.0016\n",
      "Epoch 62/100\n",
      "32/32 [==============================] - 1s 29ms/step - loss: 5.2997e-05 - val_loss: 0.0021\n",
      "Epoch 63/100\n",
      "32/32 [==============================] - 1s 29ms/step - loss: 5.1394e-05 - val_loss: 0.0017\n",
      "Epoch 64/100\n",
      "32/32 [==============================] - 1s 29ms/step - loss: 4.5460e-05 - val_loss: 0.0030\n",
      "Epoch 65/100\n",
      "32/32 [==============================] - 1s 29ms/step - loss: 5.4880e-05 - val_loss: 0.0027\n",
      "Epoch 66/100\n",
      "32/32 [==============================] - 1s 31ms/step - loss: 4.4414e-05 - val_loss: 0.0021\n",
      "Epoch 67/100\n",
      "32/32 [==============================] - 1s 29ms/step - loss: 5.3650e-05 - val_loss: 0.0018\n",
      "Epoch 68/100\n",
      "32/32 [==============================] - 1s 31ms/step - loss: 4.9001e-05 - val_loss: 0.0016\n",
      "Epoch 69/100\n",
      "32/32 [==============================] - 1s 29ms/step - loss: 4.8907e-05 - val_loss: 0.0018\n",
      "Epoch 70/100\n",
      "32/32 [==============================] - 1s 29ms/step - loss: 4.0166e-05 - val_loss: 0.0024\n",
      "Epoch 71/100\n",
      "32/32 [==============================] - 1s 29ms/step - loss: 4.6009e-05 - val_loss: 0.0030\n",
      "Epoch 72/100\n",
      "32/32 [==============================] - 1s 28ms/step - loss: 4.2604e-05 - val_loss: 0.0026\n",
      "Epoch 73/100\n",
      "32/32 [==============================] - 1s 29ms/step - loss: 5.3288e-05 - val_loss: 0.0024\n",
      "Epoch 74/100\n",
      "32/32 [==============================] - 1s 29ms/step - loss: 6.3706e-05 - val_loss: 0.0018\n",
      "Epoch 75/100\n",
      "32/32 [==============================] - 1s 29ms/step - loss: 5.0409e-05 - val_loss: 0.0030\n",
      "Epoch 76/100\n",
      "32/32 [==============================] - 1s 29ms/step - loss: 5.4441e-05 - val_loss: 0.0015\n",
      "Epoch 77/100\n",
      "32/32 [==============================] - 1s 29ms/step - loss: 4.7614e-05 - val_loss: 0.0015\n",
      "Epoch 78/100\n",
      "32/32 [==============================] - 1s 30ms/step - loss: 4.0875e-05 - val_loss: 0.0020\n",
      "Epoch 79/100\n",
      "32/32 [==============================] - 1s 29ms/step - loss: 5.4209e-05 - val_loss: 0.0018\n",
      "Epoch 80/100\n",
      "32/32 [==============================] - 1s 30ms/step - loss: 5.1965e-05 - val_loss: 0.0019\n",
      "Epoch 81/100\n",
      "32/32 [==============================] - 1s 31ms/step - loss: 5.4699e-05 - val_loss: 0.0019\n",
      "Epoch 82/100\n",
      "32/32 [==============================] - 1s 29ms/step - loss: 4.8935e-05 - val_loss: 0.0015\n",
      "Epoch 83/100\n",
      "32/32 [==============================] - 1s 28ms/step - loss: 4.8134e-05 - val_loss: 0.0029\n",
      "Epoch 84/100\n",
      "32/32 [==============================] - 1s 30ms/step - loss: 5.2570e-05 - val_loss: 0.0028\n",
      "Epoch 85/100\n",
      "32/32 [==============================] - 1s 29ms/step - loss: 4.7989e-05 - val_loss: 0.0018\n",
      "Epoch 86/100\n",
      "32/32 [==============================] - 1s 29ms/step - loss: 5.2411e-05 - val_loss: 0.0028\n",
      "Epoch 87/100\n",
      "32/32 [==============================] - 1s 29ms/step - loss: 4.1991e-05 - val_loss: 0.0031\n",
      "Epoch 88/100\n",
      "32/32 [==============================] - 1s 30ms/step - loss: 4.7384e-05 - val_loss: 0.0030\n",
      "Epoch 89/100\n",
      "32/32 [==============================] - 1s 30ms/step - loss: 4.7238e-05 - val_loss: 0.0016\n",
      "Epoch 90/100\n",
      "32/32 [==============================] - 1s 29ms/step - loss: 4.2106e-05 - val_loss: 0.0023\n",
      "Epoch 91/100\n",
      "32/32 [==============================] - 1s 29ms/step - loss: 5.5211e-05 - val_loss: 0.0021\n",
      "Epoch 92/100\n",
      "32/32 [==============================] - 1s 29ms/step - loss: 5.2436e-05 - val_loss: 0.0017\n",
      "Epoch 93/100\n",
      "32/32 [==============================] - 1s 29ms/step - loss: 7.5355e-05 - val_loss: 0.0016\n",
      "Epoch 94/100\n",
      "32/32 [==============================] - 1s 29ms/step - loss: 6.2568e-05 - val_loss: 0.0029\n",
      "Epoch 95/100\n",
      "32/32 [==============================] - 1s 29ms/step - loss: 4.6439e-05 - val_loss: 0.0037\n",
      "Epoch 96/100\n",
      "32/32 [==============================] - 1s 28ms/step - loss: 4.5037e-05 - val_loss: 0.0027\n",
      "Epoch 97/100\n",
      "32/32 [==============================] - 1s 29ms/step - loss: 3.9464e-05 - val_loss: 0.0022\n",
      "Epoch 98/100\n",
      "32/32 [==============================] - 1s 29ms/step - loss: 4.4374e-05 - val_loss: 0.0033\n",
      "Epoch 99/100\n",
      "32/32 [==============================] - 1s 29ms/step - loss: 6.2516e-05 - val_loss: 0.0032\n",
      "Epoch 100/100\n",
      "32/32 [==============================] - 1s 29ms/step - loss: 4.7644e-05 - val_loss: 0.0023\n"
     ]
    },
    {
     "data": {
      "text/plain": [
       "<keras.callbacks.History at 0x2d5bec73970>"
      ]
     },
     "execution_count": 29,
     "metadata": {},
     "output_type": "execute_result"
    }
   ],
   "source": [
    "lstm_model.fit(X_train,Y_train,validation_data = (X_val,Y_val),epochs = 100,batch_size = 64,verbose = 1)"
   ]
  },
  {
   "cell_type": "code",
   "execution_count": 30,
   "metadata": {},
   "outputs": [
    {
     "name": "stdout",
     "output_type": "stream",
     "text": [
      "64/64 [==============================] - 1s 10ms/step\n",
      "14/14 [==============================] - 0s 10ms/step\n",
      "25/25 [==============================] - 0s 10ms/step\n"
     ]
    }
   ],
   "source": [
    "train_predict = lstm_model.predict(X_train)\n",
    "val_predict = lstm_model.predict(X_val)\n",
    "test_predict = lstm_model.predict(X_test)\n",
    "train_predictraw = Yscaler.inverse_transform(train_predict).reshape((train_predict.shape[0],))\n",
    "val_predictraw = Yscaler.inverse_transform(val_predict).reshape((val_predict.shape[0],))\n",
    "test_predictraw = Yscaler.inverse_transform(test_predict).reshape((test_predict.shape[0],))"
   ]
  },
  {
   "cell_type": "code",
   "execution_count": 31,
   "metadata": {},
   "outputs": [
    {
     "name": "stdout",
     "output_type": "stream",
     "text": [
      "(784,)\n",
      "(784,)\n"
     ]
    }
   ],
   "source": [
    "print(Y_test.shape)\n",
    "print(test_predictraw.shape)"
   ]
  },
  {
   "cell_type": "code",
   "execution_count": 32,
   "metadata": {},
   "outputs": [
    {
     "name": "stdout",
     "output_type": "stream",
     "text": [
      "0.003576629067290449\n",
      "0.047834035073446024\n",
      "0.1438924515885117\n"
     ]
    }
   ],
   "source": [
    "print(math.sqrt(mean_squared_error(Y_train,train_predict)))\n",
    "print(math.sqrt(mean_squared_error(Y_val,val_predict)))\n",
    "print(math.sqrt(mean_squared_error(Y_test,test_predict)))"
   ]
  },
  {
   "cell_type": "code",
   "execution_count": 33,
   "metadata": {},
   "outputs": [
    {
     "data": {
      "text/plain": [
       "0         6.478997\n",
       "1         6.490199\n",
       "2         6.386964\n",
       "3         6.375158\n",
       "4         6.417540\n",
       "           ...    \n",
       "3529    185.589996\n",
       "3530    185.919998\n",
       "3531    183.630005\n",
       "3532    182.679993\n",
       "3533    188.630005\n",
       "Name: Adj Close, Length: 3534, dtype: float64"
      ]
     },
     "metadata": {},
     "output_type": "display_data"
    },
    {
     "data": {
      "text/html": [
       "<div>\n",
       "<style scoped>\n",
       "    .dataframe tbody tr th:only-of-type {\n",
       "        vertical-align: middle;\n",
       "    }\n",
       "\n",
       "    .dataframe tbody tr th {\n",
       "        vertical-align: top;\n",
       "    }\n",
       "\n",
       "    .dataframe thead th {\n",
       "        text-align: right;\n",
       "    }\n",
       "</style>\n",
       "<table border=\"1\" class=\"dataframe\">\n",
       "  <thead>\n",
       "    <tr style=\"text-align: right;\">\n",
       "      <th></th>\n",
       "      <th>0</th>\n",
       "    </tr>\n",
       "  </thead>\n",
       "  <tbody>\n",
       "    <tr>\n",
       "      <th>0</th>\n",
       "      <td>111.7500</td>\n",
       "    </tr>\n",
       "    <tr>\n",
       "      <th>1</th>\n",
       "      <td>112.6875</td>\n",
       "    </tr>\n",
       "    <tr>\n",
       "      <th>2</th>\n",
       "      <td>114.2500</td>\n",
       "    </tr>\n",
       "    <tr>\n",
       "      <th>3</th>\n",
       "      <td>113.8750</td>\n",
       "    </tr>\n",
       "    <tr>\n",
       "      <th>4</th>\n",
       "      <td>114.1875</td>\n",
       "    </tr>\n",
       "    <tr>\n",
       "      <th>...</th>\n",
       "      <td>...</td>\n",
       "    </tr>\n",
       "    <tr>\n",
       "      <th>779</th>\n",
       "      <td>189.3750</td>\n",
       "    </tr>\n",
       "    <tr>\n",
       "      <th>780</th>\n",
       "      <td>189.3750</td>\n",
       "    </tr>\n",
       "    <tr>\n",
       "      <th>781</th>\n",
       "      <td>189.5000</td>\n",
       "    </tr>\n",
       "    <tr>\n",
       "      <th>782</th>\n",
       "      <td>189.5000</td>\n",
       "    </tr>\n",
       "    <tr>\n",
       "      <th>783</th>\n",
       "      <td>189.5000</td>\n",
       "    </tr>\n",
       "  </tbody>\n",
       "</table>\n",
       "<p>784 rows × 1 columns</p>\n",
       "</div>"
      ],
      "text/plain": [
       "            0\n",
       "0    111.7500\n",
       "1    112.6875\n",
       "2    114.2500\n",
       "3    113.8750\n",
       "4    114.1875\n",
       "..        ...\n",
       "779  189.3750\n",
       "780  189.3750\n",
       "781  189.5000\n",
       "782  189.5000\n",
       "783  189.5000\n",
       "\n",
       "[784 rows x 1 columns]"
      ]
     },
     "metadata": {},
     "output_type": "display_data"
    }
   ],
   "source": [
    "display(dataclose)\n",
    "display(pd.DataFrame(test_predictraw))"
   ]
  },
  {
   "cell_type": "code",
   "execution_count": 34,
   "metadata": {},
   "outputs": [
    {
     "data": {
      "image/png": "[encoded data removed]",
      "text/plain": [
       "<Figure size 640x480 with 1 Axes>"
      ]
     },
     "metadata": {},
     "output_type": "display_data"
    }
   ],
   "source": [
    "plt.plot(dataclose)\n",
    "\n",
    "trainPredictPlot = np.empty_like(dataclose)\n",
    "trainPredictPlot.fill(np.nan)\n",
    "trainPredictPlot[timestep:len(train_predictraw)+timestep:] = train_predictraw\n",
    "plt.plot(trainPredictPlot)\n",
    "\n",
    "valPredictPlot = np.empty_like(dataclose)\n",
    "valPredictPlot.fill(np.nan)\n",
    "valPredictPlot[len(train_predictraw)+timestep*2:len(train_predictraw)+timestep*2+len(val_predictraw):] = val_predictraw\n",
    "plt.plot(valPredictPlot)\n",
    "\n",
    "testPredictPlot = np.empty_like(dataclose)\n",
    "testPredictPlot.fill(np.nan)\n",
    "testPredictPlot[len(train_predictraw)+timestep*3+len(val_predictraw):len(train_predictraw)+timestep*3+len(val_predictraw)+len(test_predictraw):] = test_predictraw\n",
    "plt.plot(testPredictPlot)\n",
    "\n",
    "plt.show()"
   ]
  },
  {
   "cell_type": "code",
   "execution_count": null,
   "metadata": {},
   "outputs": [],
   "source": []
  }
 ],
 "metadata": {
  "kernelspec": {
   "display_name": "MachineLearningEnv",
   "language": "python",
   "name": "python3"
  },
  "language_info": {
   "codemirror_mode": {
    "name": "ipython",
    "version": 3
   },
   "file_extension": ".py",
   "mimetype": "text/x-python",
   "name": "python",
   "nbconvert_exporter": "python",
   "pygments_lexer": "ipython3",
   "version": "3.10.13"
  }
 },
 "nbformat": 4,
 "nbformat_minor": 2
}
