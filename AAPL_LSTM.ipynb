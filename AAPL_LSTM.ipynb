{
 "cells": [
  {
   "cell_type": "code",
   "execution_count": 13,
   "metadata": {},
   "outputs": [],
   "source": [
    "import pandas as pd\n",
    "import tensorflow as tf\n",
    "import yfinance as yf\n",
    "import numpy as np\n",
    "import keras\n",
    "import tensorflow as tf\n",
    "from sklearn.model_selection import train_test_split\n",
    "from sklearn.metrics import mean_squared_error\n",
    "from sklearn.preprocessing import MinMaxScaler\n",
    "from keras.models import Model\n",
    "from keras.models import Sequential\n",
    "from keras.layers import Dense, Dropout, LSTM, Input,GlobalAveragePooling1D\n",
    "from keras import optimizers\n",
    "import matplotlib.pyplot as plt\n",
    "import keras_tuner as kt\n",
    "from datetime import datetime, timedelta\n",
    "import math"
   ]
  },
  {
   "cell_type": "code",
   "execution_count": 14,
   "metadata": {},
   "outputs": [
    {
     "name": "stdout",
     "output_type": "stream",
     "text": [
      "[name: \"/device:CPU:0\"\n",
      "device_type: \"CPU\"\n",
      "memory_limit: 268435456\n",
      "locality {\n",
      "}\n",
      "incarnation: 2846767335242127738\n",
      "xla_global_id: -1\n",
      ", name: \"/device:GPU:0\"\n",
      "device_type: \"GPU\"\n",
      "memory_limit: 5729419264\n",
      "locality {\n",
      "  bus_id: 1\n",
      "  links {\n",
      "  }\n",
      "}\n",
      "incarnation: 13309057598457145161\n",
      "physical_device_desc: \"device: 0, name: NVIDIA GeForce RTX 4060 Laptop GPU, pci bus id: 0000:01:00.0, compute capability: 8.9\"\n",
      "xla_global_id: 416903419\n",
      "]\n"
     ]
    }
   ],
   "source": [
    "from tensorflow.python.client import device_lib\n",
    "print(device_lib.list_local_devices())"
   ]
  },
  {
   "cell_type": "code",
   "execution_count": 15,
   "metadata": {},
   "outputs": [],
   "source": [
    "timestep = 100\n",
    "testfrac = 0.2\n",
    "valfrac = 0.25"
   ]
  },
  {
   "cell_type": "code",
   "execution_count": 23,
   "metadata": {},
   "outputs": [
    {
     "data": {
      "text/plain": [
       "'2024-01-19'"
      ]
     },
     "metadata": {},
     "output_type": "display_data"
    },
    {
     "name": "stderr",
     "output_type": "stream",
     "text": [
      "[*********************100%%**********************]  1 of 1 completed\n"
     ]
    }
   ],
   "source": [
    "start_date = '2010-01-01'\n",
    "today = datetime.now()\n",
    "end_date = datetime.strftime(today, '%Y-%m-%d')\n",
    "display(end_date)\n",
    "data = yf.download(\"AAPL\", start=start_date, end=end_date) #Displays till yesterday as today is not complete\n",
    "data = data.reset_index()\n",
    "dataclose = data['Close']"
   ]
  },
  {
   "cell_type": "code",
   "execution_count": 24,
   "metadata": {},
   "outputs": [
    {
     "data": {
      "text/html": [
       "<div>\n",
       "<style scoped>\n",
       "    .dataframe tbody tr th:only-of-type {\n",
       "        vertical-align: middle;\n",
       "    }\n",
       "\n",
       "    .dataframe tbody tr th {\n",
       "        vertical-align: top;\n",
       "    }\n",
       "\n",
       "    .dataframe thead th {\n",
       "        text-align: right;\n",
       "    }\n",
       "</style>\n",
       "<table border=\"1\" class=\"dataframe\">\n",
       "  <thead>\n",
       "    <tr style=\"text-align: right;\">\n",
       "      <th></th>\n",
       "      <th>Open</th>\n",
       "      <th>High</th>\n",
       "      <th>Low</th>\n",
       "      <th>Close</th>\n",
       "      <th>Volume</th>\n",
       "    </tr>\n",
       "  </thead>\n",
       "  <tbody>\n",
       "    <tr>\n",
       "      <th>0</th>\n",
       "      <td>7.622500</td>\n",
       "      <td>7.660714</td>\n",
       "      <td>7.585000</td>\n",
       "      <td>7.643214</td>\n",
       "      <td>493729600</td>\n",
       "    </tr>\n",
       "    <tr>\n",
       "      <th>1</th>\n",
       "      <td>7.664286</td>\n",
       "      <td>7.699643</td>\n",
       "      <td>7.616071</td>\n",
       "      <td>7.656429</td>\n",
       "      <td>601904800</td>\n",
       "    </tr>\n",
       "    <tr>\n",
       "      <th>2</th>\n",
       "      <td>7.656429</td>\n",
       "      <td>7.686786</td>\n",
       "      <td>7.526786</td>\n",
       "      <td>7.534643</td>\n",
       "      <td>552160000</td>\n",
       "    </tr>\n",
       "    <tr>\n",
       "      <th>3</th>\n",
       "      <td>7.562500</td>\n",
       "      <td>7.571429</td>\n",
       "      <td>7.466071</td>\n",
       "      <td>7.520714</td>\n",
       "      <td>477131200</td>\n",
       "    </tr>\n",
       "    <tr>\n",
       "      <th>4</th>\n",
       "      <td>7.510714</td>\n",
       "      <td>7.571429</td>\n",
       "      <td>7.466429</td>\n",
       "      <td>7.570714</td>\n",
       "      <td>447610800</td>\n",
       "    </tr>\n",
       "    <tr>\n",
       "      <th>...</th>\n",
       "      <td>...</td>\n",
       "      <td>...</td>\n",
       "      <td>...</td>\n",
       "      <td>...</td>\n",
       "      <td>...</td>\n",
       "    </tr>\n",
       "    <tr>\n",
       "      <th>3529</th>\n",
       "      <td>186.539993</td>\n",
       "      <td>187.050003</td>\n",
       "      <td>183.619995</td>\n",
       "      <td>185.589996</td>\n",
       "      <td>49128400</td>\n",
       "    </tr>\n",
       "    <tr>\n",
       "      <th>3530</th>\n",
       "      <td>186.059998</td>\n",
       "      <td>186.740005</td>\n",
       "      <td>185.190002</td>\n",
       "      <td>185.919998</td>\n",
       "      <td>40444700</td>\n",
       "    </tr>\n",
       "    <tr>\n",
       "      <th>3531</th>\n",
       "      <td>182.160004</td>\n",
       "      <td>184.259995</td>\n",
       "      <td>180.929993</td>\n",
       "      <td>183.630005</td>\n",
       "      <td>65603000</td>\n",
       "    </tr>\n",
       "    <tr>\n",
       "      <th>3532</th>\n",
       "      <td>181.270004</td>\n",
       "      <td>182.929993</td>\n",
       "      <td>180.300003</td>\n",
       "      <td>182.679993</td>\n",
       "      <td>47317400</td>\n",
       "    </tr>\n",
       "    <tr>\n",
       "      <th>3533</th>\n",
       "      <td>186.089996</td>\n",
       "      <td>189.139999</td>\n",
       "      <td>185.830002</td>\n",
       "      <td>188.630005</td>\n",
       "      <td>77921000</td>\n",
       "    </tr>\n",
       "  </tbody>\n",
       "</table>\n",
       "<p>3534 rows × 5 columns</p>\n",
       "</div>"
      ],
      "text/plain": [
       "            Open        High         Low       Close     Volume\n",
       "0       7.622500    7.660714    7.585000    7.643214  493729600\n",
       "1       7.664286    7.699643    7.616071    7.656429  601904800\n",
       "2       7.656429    7.686786    7.526786    7.534643  552160000\n",
       "3       7.562500    7.571429    7.466071    7.520714  477131200\n",
       "4       7.510714    7.571429    7.466429    7.570714  447610800\n",
       "...          ...         ...         ...         ...        ...\n",
       "3529  186.539993  187.050003  183.619995  185.589996   49128400\n",
       "3530  186.059998  186.740005  185.190002  185.919998   40444700\n",
       "3531  182.160004  184.259995  180.929993  183.630005   65603000\n",
       "3532  181.270004  182.929993  180.300003  182.679993   47317400\n",
       "3533  186.089996  189.139999  185.830002  188.630005   77921000\n",
       "\n",
       "[3534 rows x 5 columns]"
      ]
     },
     "metadata": {},
     "output_type": "display_data"
    }
   ],
   "source": [
    "data = data[['Open', 'High', 'Low', 'Close', 'Volume']]\n",
    "display(data)"
   ]
  },
  {
   "cell_type": "code",
   "execution_count": 26,
   "metadata": {},
   "outputs": [
    {
     "data": {
      "text/plain": [
       "(3534, 5)"
      ]
     },
     "metadata": {},
     "output_type": "display_data"
    },
    {
     "data": {
      "text/plain": [
       "(3534,)"
      ]
     },
     "metadata": {},
     "output_type": "display_data"
    }
   ],
   "source": [
    "Xscaler = MinMaxScaler()\n",
    "Xdata = Xscaler.fit_transform(np.array(data))\n",
    "Yscaler = MinMaxScaler()\n",
    "Ydata = Yscaler.fit_transform(np.array([data['Close']]).transpose()).reshape((Xdata.shape[0],))\n",
    "display(Xdata.shape)\n",
    "display(Ydata.shape)"
   ]
  },
  {
   "cell_type": "code",
   "execution_count": 27,
   "metadata": {},
   "outputs": [],
   "source": [
    "X_temp, X_test = train_test_split(Xdata, test_size=testfrac, shuffle=False)\n",
    "Y_temp, Y_test = train_test_split(Ydata, test_size=testfrac, shuffle=False)\n",
    "X_train, X_val = train_test_split(X_temp, test_size=valfrac, shuffle=False)\n",
    "Y_train, Y_val = train_test_split(Y_temp, test_size=valfrac, shuffle=False)\n"
   ]
  },
  {
   "cell_type": "code",
   "execution_count": 28,
   "metadata": {},
   "outputs": [],
   "source": [
    "def build_timeseries(Xdata, Ydata, time_step):\n",
    "    dim_0 = Xdata.shape[0] - time_step\n",
    "    dim_1 = Xdata.shape[1]\n",
    "\n",
    "    x = np.zeros((dim_0, time_step, dim_1))\n",
    "    y = np.zeros((Ydata.shape[0] - time_step,))\n",
    "\n",
    "    for i in range(dim_0):\n",
    "        x[i] = Xdata[i:time_step+i]\n",
    "        y[i] = Ydata[time_step+i]\n",
    "    return x, y"
   ]
  },
  {
   "cell_type": "code",
   "execution_count": 29,
   "metadata": {},
   "outputs": [
    {
     "name": "stdout",
     "output_type": "stream",
     "text": [
      "X Train Shape:  (2020, 100, 5)    Y Train Shape:  (2020,)\n",
      "X Val Shape:  (607, 100, 5)    Y Val Shape:  (607,)\n",
      "X Test Shape:  (607, 100, 5)    Y Test Shape:  (607,)\n"
     ]
    }
   ],
   "source": [
    "X_train, Y_train = build_timeseries(X_train, Y_train, timestep)\n",
    "X_test, Y_test = build_timeseries(X_test, Y_test, timestep)\n",
    "X_val, Y_val = build_timeseries(X_val, Y_val, timestep)\n",
    "print(\"X Train Shape: \", X_train.shape, \"   Y Train Shape: \", Y_train.shape)\n",
    "print(\"X Val Shape: \", X_val.shape, \"   Y Val Shape: \", Y_val.shape)\n",
    "print(\"X Test Shape: \", X_test.shape, \"   Y Test Shape: \", Y_test.shape)"
   ]
  },
  {
   "cell_type": "code",
   "execution_count": 30,
   "metadata": {},
   "outputs": [
    {
     "data": {
      "text/plain": [
       "(2020, 100, 5)"
      ]
     },
     "metadata": {},
     "output_type": "display_data"
    },
    {
     "data": {
      "text/plain": [
       "(607, 100, 5)"
      ]
     },
     "metadata": {},
     "output_type": "display_data"
    },
    {
     "data": {
      "text/plain": [
       "(607, 100, 5)"
      ]
     },
     "metadata": {},
     "output_type": "display_data"
    }
   ],
   "source": [
    "display(X_train.shape)\n",
    "display(X_val.shape)\n",
    "display(X_test.shape)"
   ]
  },
  {
   "cell_type": "code",
   "execution_count": 31,
   "metadata": {},
   "outputs": [],
   "source": [
    "def model_builder(hp):\n",
    "    lstm_model = Sequential()\n",
    "    \n",
    "    lstm_units_0 = hp.Int('units_lstm_0', min_value=16, max_value=256, step=16)\n",
    "    lstm_units_1 = hp.Int('units_lstm_1', min_value=16, max_value=256, step=16)\n",
    "    lstm_units_2 = hp.Int('units_lstm_2', min_value=16, max_value=256, step=16)\n",
    "    dense_units_0 = hp.Int('units_dense_0', min_value=16, max_value=256, step=16)\n",
    "    dense_units_1 = hp.Int('units_dense_1', min_value=16, max_value=256, step=16)\n",
    "    dense_units_2 = hp.Int('units_dense_2', min_value=16, max_value=256, step=16)\n",
    "    lstm_model.add(Input(shape=(X_train.shape[1], X_train.shape[2])))\n",
    "    lstm_model.add(LSTM(units=lstm_units_0, return_sequences=True, kernel_initializer='he_normal'))\n",
    "    lstm_model.add(LSTM(units=lstm_units_1, return_sequences=True))\n",
    "    lstm_model.add(LSTM(units=lstm_units_2, return_sequences=True))\n",
    "    lstm_model.add(GlobalAveragePooling1D())\n",
    "    lstm_model.add(Dense(units=dense_units_0,activation='relu'))\n",
    "    lstm_model.add(Dense(units=dense_units_1,activation='relu'))\n",
    "    lstm_model.add(Dropout(0.05))\n",
    "    lstm_model.add(Dense(units=dense_units_2, activation='linear'))\n",
    "    lstm_model.add(Dense(units=1))\n",
    "    lstm_model.summary()\n",
    "    \n",
    "    hyperparameters_learning_rate = hp.Choice('learning_rate', values=[0.01, 0.05, 0.1])\n",
    "    \n",
    "    lstm_model.compile(loss='mean_squared_error', optimizer=keras.optimizers.Adam(learning_rate=hyperparameters_learning_rate))\n",
    "    \n",
    "    return lstm_model"
   ]
  },
  {
   "cell_type": "code",
   "execution_count": 13,
   "metadata": {},
   "outputs": [
    {
     "name": "stdout",
     "output_type": "stream",
     "text": [
      "Trial 50 Complete [00h 00m 37s]\n",
      "val_loss: 0.05100097134709358\n",
      "\n",
      "Best val_loss So Far: 0.018898727372288704\n",
      "Total elapsed time: 00h 28m 43s\n",
      "Model: \"sequential\"\n",
      "_________________________________________________________________\n",
      " Layer (type)                Output Shape              Param #   \n",
      "=================================================================\n",
      " lstm (LSTM)                 (None, 25, 224)           206080    \n",
      "                                                                 \n",
      " lstm_1 (LSTM)               (None, 25, 256)           492544    \n",
      "                                                                 \n",
      " lstm_2 (LSTM)               (None, 25, 160)           266880    \n",
      "                                                                 \n",
      " global_average_pooling1d (G  (None, 160)              0         \n",
      " lobalAveragePooling1D)                                          \n",
      "                                                                 \n",
      " dense (Dense)               (None, 128)               20608     \n",
      "                                                                 \n",
      " dense_1 (Dense)             (None, 208)               26832     \n",
      "                                                                 \n",
      " dropout (Dropout)           (None, 208)               0         \n",
      "                                                                 \n",
      " dense_2 (Dense)             (None, 64)                13376     \n",
      "                                                                 \n",
      " dense_3 (Dense)             (None, 1)                 65        \n",
      "                                                                 \n",
      "=================================================================\n",
      "Total params: 1,026,385\n",
      "Trainable params: 1,026,385\n",
      "Non-trainable params: 0\n",
      "_________________________________________________________________\n",
      "Model: \"sequential\"\n",
      "_________________________________________________________________\n",
      " Layer (type)                Output Shape              Param #   \n",
      "=================================================================\n",
      " lstm (LSTM)                 (None, 25, 224)           206080    \n",
      "                                                                 \n",
      " lstm_1 (LSTM)               (None, 25, 256)           492544    \n",
      "                                                                 \n",
      " lstm_2 (LSTM)               (None, 25, 160)           266880    \n",
      "                                                                 \n",
      " global_average_pooling1d (G  (None, 160)              0         \n",
      " lobalAveragePooling1D)                                          \n",
      "                                                                 \n",
      " dense (Dense)               (None, 128)               20608     \n",
      "                                                                 \n",
      " dense_1 (Dense)             (None, 208)               26832     \n",
      "                                                                 \n",
      " dropout (Dropout)           (None, 208)               0         \n",
      "                                                                 \n",
      " dense_2 (Dense)             (None, 64)                13376     \n",
      "                                                                 \n",
      " dense_3 (Dense)             (None, 1)                 65        \n",
      "                                                                 \n",
      "=================================================================\n",
      "Total params: 1,026,385\n",
      "Trainable params: 1,026,385\n",
      "Non-trainable params: 0\n",
      "_________________________________________________________________\n",
      "None\n"
     ]
    }
   ],
   "source": [
    "tuner = kt.BayesianOptimization(\n",
    "    model_builder,\n",
    "    objective='val_loss',\n",
    "    max_trials=50)\n",
    "tuner.search(X_train, Y_train, epochs=25, validation_data=(X_val,Y_val))\n",
    "lstm_model  = tuner.get_best_models()[0]  \n",
    "print(lstm_model.summary())\n",
    "callback = tf.keras.callbacks.EarlyStopping(monitor='val_loss', patience=10)"
   ]
  },
  {
   "cell_type": "code",
   "execution_count": 14,
   "metadata": {},
   "outputs": [],
   "source": [
    "lstm_model.save(\"AAPL_LSTM.keras\")"
   ]
  },
  {
   "cell_type": "code",
   "execution_count": 15,
   "metadata": {},
   "outputs": [
    {
     "name": "stdout",
     "output_type": "stream",
     "text": [
      "Model: \"sequential\"\n",
      "_________________________________________________________________\n",
      " Layer (type)                Output Shape              Param #   \n",
      "=================================================================\n",
      " lstm (LSTM)                 (None, 25, 224)           206080    \n",
      "                                                                 \n",
      " lstm_1 (LSTM)               (None, 25, 256)           492544    \n",
      "                                                                 \n",
      " lstm_2 (LSTM)               (None, 25, 160)           266880    \n",
      "                                                                 \n",
      " global_average_pooling1d (G  (None, 160)              0         \n",
      " lobalAveragePooling1D)                                          \n",
      "                                                                 \n",
      " dense (Dense)               (None, 128)               20608     \n",
      "                                                                 \n",
      " dense_1 (Dense)             (None, 208)               26832     \n",
      "                                                                 \n",
      " dropout (Dropout)           (None, 208)               0         \n",
      "                                                                 \n",
      " dense_2 (Dense)             (None, 64)                13376     \n",
      "                                                                 \n",
      " dense_3 (Dense)             (None, 1)                 65        \n",
      "                                                                 \n",
      "=================================================================\n",
      "Total params: 1,026,385\n",
      "Trainable params: 1,026,385\n",
      "Non-trainable params: 0\n",
      "_________________________________________________________________\n"
     ]
    }
   ],
   "source": [
    "lstm_model.summary()"
   ]
  },
  {
   "cell_type": "code",
   "execution_count": 16,
   "metadata": {},
   "outputs": [
    {
     "name": "stdout",
     "output_type": "stream",
     "text": [
      "Epoch 1/50\n",
      "33/33 [==============================] - 5s 45ms/step - loss: 0.0011 - val_loss: 0.0209\n",
      "Epoch 2/50\n",
      "33/33 [==============================] - 1s 20ms/step - loss: 9.4141e-04 - val_loss: 0.0153\n",
      "Epoch 3/50\n",
      "33/33 [==============================] - 1s 18ms/step - loss: 6.4326e-04 - val_loss: 0.0231\n",
      "Epoch 4/50\n",
      "33/33 [==============================] - 1s 21ms/step - loss: 6.2311e-04 - val_loss: 0.0234\n",
      "Epoch 5/50\n",
      "33/33 [==============================] - 1s 19ms/step - loss: 5.7725e-04 - val_loss: 0.0204\n",
      "Epoch 6/50\n",
      "33/33 [==============================] - 1s 20ms/step - loss: 5.6900e-04 - val_loss: 0.0237\n",
      "Epoch 7/50\n",
      "33/33 [==============================] - 1s 20ms/step - loss: 5.5347e-04 - val_loss: 0.0202\n",
      "Epoch 8/50\n",
      "33/33 [==============================] - 1s 21ms/step - loss: 3.7264e-04 - val_loss: 0.0180\n",
      "Epoch 9/50\n",
      "33/33 [==============================] - 1s 19ms/step - loss: 4.6785e-04 - val_loss: 0.0282\n",
      "Epoch 10/50\n",
      "33/33 [==============================] - 1s 20ms/step - loss: 4.0929e-04 - val_loss: 0.0203\n",
      "Epoch 11/50\n",
      "33/33 [==============================] - 1s 19ms/step - loss: 3.5490e-04 - val_loss: 0.0224\n",
      "Epoch 12/50\n",
      "33/33 [==============================] - 1s 19ms/step - loss: 5.2024e-04 - val_loss: 0.0192\n",
      "Epoch 13/50\n",
      "33/33 [==============================] - 1s 18ms/step - loss: 3.8257e-04 - val_loss: 0.0255\n",
      "Epoch 14/50\n",
      "33/33 [==============================] - 1s 17ms/step - loss: 2.4217e-04 - val_loss: 0.0268\n",
      "Epoch 15/50\n",
      "33/33 [==============================] - 1s 17ms/step - loss: 2.7135e-04 - val_loss: 0.0261\n",
      "Epoch 16/50\n",
      "33/33 [==============================] - 1s 16ms/step - loss: 2.0388e-04 - val_loss: 0.0228\n",
      "Epoch 17/50\n",
      "33/33 [==============================] - 1s 17ms/step - loss: 1.7538e-04 - val_loss: 0.0226\n",
      "Epoch 18/50\n",
      "33/33 [==============================] - 1s 17ms/step - loss: 1.9229e-04 - val_loss: 0.0247\n",
      "Epoch 19/50\n",
      "33/33 [==============================] - 1s 20ms/step - loss: 1.5525e-04 - val_loss: 0.0250\n",
      "Epoch 20/50\n",
      "33/33 [==============================] - 1s 18ms/step - loss: 1.5117e-04 - val_loss: 0.0226\n",
      "Epoch 21/50\n",
      "33/33 [==============================] - 1s 17ms/step - loss: 1.4894e-04 - val_loss: 0.0226\n",
      "Epoch 22/50\n",
      "33/33 [==============================] - 1s 18ms/step - loss: 1.1561e-04 - val_loss: 0.0220\n",
      "Epoch 23/50\n",
      "33/33 [==============================] - 1s 18ms/step - loss: 1.0494e-04 - val_loss: 0.0210\n",
      "Epoch 24/50\n",
      "33/33 [==============================] - 1s 19ms/step - loss: 1.2418e-04 - val_loss: 0.0215\n",
      "Epoch 25/50\n",
      "33/33 [==============================] - 1s 20ms/step - loss: 1.0570e-04 - val_loss: 0.0213\n",
      "Epoch 26/50\n",
      "33/33 [==============================] - 1s 19ms/step - loss: 9.4925e-05 - val_loss: 0.0243\n",
      "Epoch 27/50\n",
      "33/33 [==============================] - 1s 19ms/step - loss: 8.9087e-05 - val_loss: 0.0254\n",
      "Epoch 28/50\n",
      "33/33 [==============================] - 1s 18ms/step - loss: 8.3265e-05 - val_loss: 0.0217\n",
      "Epoch 29/50\n",
      "33/33 [==============================] - 1s 19ms/step - loss: 9.0988e-05 - val_loss: 0.0260\n",
      "Epoch 30/50\n",
      "33/33 [==============================] - 1s 18ms/step - loss: 7.5339e-05 - val_loss: 0.0233\n",
      "Epoch 31/50\n",
      "33/33 [==============================] - 1s 18ms/step - loss: 8.7835e-05 - val_loss: 0.0250\n",
      "Epoch 32/50\n",
      "33/33 [==============================] - 1s 20ms/step - loss: 8.8462e-05 - val_loss: 0.0220\n",
      "Epoch 33/50\n",
      "33/33 [==============================] - 1s 19ms/step - loss: 7.3642e-05 - val_loss: 0.0234\n",
      "Epoch 34/50\n",
      "33/33 [==============================] - 1s 19ms/step - loss: 8.4116e-05 - val_loss: 0.0212\n",
      "Epoch 35/50\n",
      "33/33 [==============================] - 1s 20ms/step - loss: 8.1486e-05 - val_loss: 0.0213\n",
      "Epoch 36/50\n",
      "33/33 [==============================] - 1s 20ms/step - loss: 1.0346e-04 - val_loss: 0.0215\n",
      "Epoch 37/50\n",
      "33/33 [==============================] - 1s 20ms/step - loss: 1.2669e-04 - val_loss: 0.0259\n",
      "Epoch 38/50\n",
      "33/33 [==============================] - 1s 22ms/step - loss: 9.5425e-05 - val_loss: 0.0248\n",
      "Epoch 39/50\n",
      "33/33 [==============================] - 1s 17ms/step - loss: 7.5279e-05 - val_loss: 0.0238\n",
      "Epoch 40/50\n",
      "33/33 [==============================] - 1s 18ms/step - loss: 8.7365e-05 - val_loss: 0.0258\n",
      "Epoch 41/50\n",
      "33/33 [==============================] - 1s 17ms/step - loss: 8.0859e-05 - val_loss: 0.0241\n",
      "Epoch 42/50\n",
      "33/33 [==============================] - 1s 17ms/step - loss: 6.9414e-05 - val_loss: 0.0233\n",
      "Epoch 43/50\n",
      "33/33 [==============================] - 1s 17ms/step - loss: 6.3063e-05 - val_loss: 0.0214\n",
      "Epoch 44/50\n",
      "33/33 [==============================] - 1s 17ms/step - loss: 7.2096e-05 - val_loss: 0.0218\n",
      "Epoch 45/50\n",
      "33/33 [==============================] - 1s 17ms/step - loss: 6.4870e-05 - val_loss: 0.0245\n",
      "Epoch 46/50\n",
      "33/33 [==============================] - 1s 17ms/step - loss: 7.2100e-05 - val_loss: 0.0242\n",
      "Epoch 47/50\n",
      "33/33 [==============================] - 1s 18ms/step - loss: 6.8836e-05 - val_loss: 0.0248\n",
      "Epoch 48/50\n",
      "33/33 [==============================] - 1s 18ms/step - loss: 7.4088e-05 - val_loss: 0.0223\n",
      "Epoch 49/50\n",
      "33/33 [==============================] - 1s 17ms/step - loss: 6.6916e-05 - val_loss: 0.0187\n",
      "Epoch 50/50\n",
      "33/33 [==============================] - 1s 17ms/step - loss: 6.0278e-05 - val_loss: 0.0208\n"
     ]
    },
    {
     "data": {
      "text/plain": [
       "<keras.callbacks.History at 0x2727c9d3910>"
      ]
     },
     "execution_count": 16,
     "metadata": {},
     "output_type": "execute_result"
    }
   ],
   "source": [
    "lstm_model.fit(X_train,Y_train,validation_data = (X_val,Y_val),epochs = 50,batch_size = 64,verbose = 1)"
   ]
  },
  {
   "cell_type": "code",
   "execution_count": 24,
   "metadata": {},
   "outputs": [
    {
     "name": "stdout",
     "output_type": "stream",
     "text": [
      "66/66 [==============================] - 0s 7ms/step\n",
      "22/22 [==============================] - 0s 5ms/step\n",
      "22/22 [==============================] - 0s 5ms/step\n"
     ]
    }
   ],
   "source": [
    "train_predict = lstm_model.predict(X_train)\n",
    "val_predict = lstm_model.predict(X_val)\n",
    "test_predict = lstm_model.predict(X_test)\n",
    "train_predictraw = Yscaler.inverse_transform(train_predict)\n",
    "val_predictraw = Yscaler.inverse_transform(val_predict)\n",
    "test_predictraw = Yscaler.inverse_transform(test_predict)"
   ]
  },
  {
   "cell_type": "code",
   "execution_count": 26,
   "metadata": {},
   "outputs": [
    {
     "name": "stdout",
     "output_type": "stream",
     "text": [
      "(702,)\n",
      "(702,)\n"
     ]
    }
   ],
   "source": [
    "print(Y_test.shape)\n",
    "print(test_predictraw.shape)"
   ]
  },
  {
   "cell_type": "code",
   "execution_count": 27,
   "metadata": {},
   "outputs": [
    {
     "name": "stdout",
     "output_type": "stream",
     "text": [
      "3.6041629663348426e-06\n",
      "0.00020553603376024328\n",
      "0.0006597879157708907\n"
     ]
    }
   ],
   "source": [
    "print(math.sqrt(mean_squared_error(Y_train,train_predict)) / Y_train.shape[0])\n",
    "print(math.sqrt(mean_squared_error(Y_val,val_predict)) / Y_val.shape[0])\n",
    "print(math.sqrt(mean_squared_error(Y_test,test_predict)) / Y_test.shape[0])"
   ]
  },
  {
   "cell_type": "code",
   "execution_count": 51,
   "metadata": {},
   "outputs": [
    {
     "data": {
      "text/plain": [
       "0         7.643214\n",
       "1         7.656429\n",
       "2         7.534643\n",
       "3         7.520714\n",
       "4         7.570714\n",
       "           ...    \n",
       "3529    185.589996\n",
       "3530    185.919998\n",
       "3531    183.630005\n",
       "3532    182.679993\n",
       "3533    188.630005\n",
       "Name: Close, Length: 3534, dtype: float64"
      ]
     },
     "metadata": {},
     "output_type": "display_data"
    },
    {
     "data": {
      "text/html": [
       "<div>\n",
       "<style scoped>\n",
       "    .dataframe tbody tr th:only-of-type {\n",
       "        vertical-align: middle;\n",
       "    }\n",
       "\n",
       "    .dataframe tbody tr th {\n",
       "        vertical-align: top;\n",
       "    }\n",
       "\n",
       "    .dataframe thead th {\n",
       "        text-align: right;\n",
       "    }\n",
       "</style>\n",
       "<table border=\"1\" class=\"dataframe\">\n",
       "  <thead>\n",
       "    <tr style=\"text-align: right;\">\n",
       "      <th></th>\n",
       "      <th>0</th>\n",
       "    </tr>\n",
       "  </thead>\n",
       "  <tbody>\n",
       "    <tr>\n",
       "      <th>0</th>\n",
       "      <td>70.1250</td>\n",
       "    </tr>\n",
       "    <tr>\n",
       "      <th>1</th>\n",
       "      <td>70.1250</td>\n",
       "    </tr>\n",
       "    <tr>\n",
       "      <th>2</th>\n",
       "      <td>70.0625</td>\n",
       "    </tr>\n",
       "    <tr>\n",
       "      <th>3</th>\n",
       "      <td>70.1250</td>\n",
       "    </tr>\n",
       "    <tr>\n",
       "      <th>4</th>\n",
       "      <td>70.0625</td>\n",
       "    </tr>\n",
       "    <tr>\n",
       "      <th>...</th>\n",
       "      <td>...</td>\n",
       "    </tr>\n",
       "    <tr>\n",
       "      <th>697</th>\n",
       "      <td>74.9375</td>\n",
       "    </tr>\n",
       "    <tr>\n",
       "      <th>698</th>\n",
       "      <td>74.9375</td>\n",
       "    </tr>\n",
       "    <tr>\n",
       "      <th>699</th>\n",
       "      <td>74.8750</td>\n",
       "    </tr>\n",
       "    <tr>\n",
       "      <th>700</th>\n",
       "      <td>74.8750</td>\n",
       "    </tr>\n",
       "    <tr>\n",
       "      <th>701</th>\n",
       "      <td>74.8750</td>\n",
       "    </tr>\n",
       "  </tbody>\n",
       "</table>\n",
       "<p>702 rows × 1 columns</p>\n",
       "</div>"
      ],
      "text/plain": [
       "           0\n",
       "0    70.1250\n",
       "1    70.1250\n",
       "2    70.0625\n",
       "3    70.1250\n",
       "4    70.0625\n",
       "..       ...\n",
       "697  74.9375\n",
       "698  74.9375\n",
       "699  74.8750\n",
       "700  74.8750\n",
       "701  74.8750\n",
       "\n",
       "[702 rows x 1 columns]"
      ]
     },
     "metadata": {},
     "output_type": "display_data"
    }
   ],
   "source": [
    "display(dataclose)\n",
    "display(pd.DataFrame(test_predictraw))"
   ]
  },
  {
   "cell_type": "code",
   "execution_count": 50,
   "metadata": {},
   "outputs": [
    {
     "data": {
      "image/png": "[encoded data removed]",
      "text/plain": [
       "<Figure size 640x480 with 1 Axes>"
      ]
     },
     "metadata": {},
     "output_type": "display_data"
    }
   ],
   "source": [
    "plt.plot(dataclose)\n",
    "\n",
    "trainPredictPlot = np.empty_like(dataclose)\n",
    "trainPredictPlot.fill(np.nan)\n",
    "trainPredictPlot[timestep:len(train_predictraw)+timestep:] = train_predictraw\n",
    "plt.plot(trainPredictPlot)\n",
    "\n",
    "valPredictPlot = np.empty_like(dataclose)\n",
    "valPredictPlot.fill(np.nan)\n",
    "valPredictPlot[len(train_predictraw)+timestep*2:len(train_predictraw)+timestep*2+len(val_predictraw):] = val_predictraw\n",
    "plt.plot(valPredictPlot)\n",
    "\n",
    "testPredictPlot = np.empty_like(dataclose)\n",
    "testPredictPlot.fill(np.nan)\n",
    "testPredictPlot[len(train_predictraw)+timestep*3+len(val_predictraw):len(train_predictraw)+timestep*3+len(val_predictraw)+len(test_predictraw):] = test_predictraw\n",
    "plt.plot(testPredictPlot)\n",
    "\n",
    "plt.show()"
   ]
  },
  {
   "cell_type": "code",
   "execution_count": null,
   "metadata": {},
   "outputs": [],
   "source": []
  }
 ],
 "metadata": {
  "kernelspec": {
   "display_name": "MachineLearningEnv",
   "language": "python",
   "name": "python3"
  },
  "language_info": {
   "codemirror_mode": {
    "name": "ipython",
    "version": 3
   },
   "file_extension": ".py",
   "mimetype": "text/x-python",
   "name": "python",
   "nbconvert_exporter": "python",
   "pygments_lexer": "ipython3",
   "version": "3.10.13"
  }
 },
 "nbformat": 4,
 "nbformat_minor": 2
}
